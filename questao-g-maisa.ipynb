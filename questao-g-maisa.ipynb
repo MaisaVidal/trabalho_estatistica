{
 "cells": [
  {
   "cell_type": "code",
   "execution_count": 40,
   "metadata": {},
   "outputs": [],
   "source": [
    "import pandas as pd\n",
    "from scipy import stats"
   ]
  },
  {
   "cell_type": "code",
   "execution_count": 41,
   "metadata": {},
   "outputs": [],
   "source": [
    "dataframe = pd.read_csv(\"DadosEstatisticos-com-colunas-de-interesse.csv\",sep=\";\",encoding='latin-1');"
   ]
  },
  {
   "cell_type": "code",
   "execution_count": 42,
   "metadata": {},
   "outputs": [],
   "source": [
    "dataframe.rename(columns={'AEROPORTO DE DESTINO (REGIÃO)': 'AERO_DESTINO_REGIAO'}, inplace = True)"
   ]
  },
  {
   "cell_type": "code",
   "execution_count": 43,
   "metadata": {},
   "outputs": [],
   "source": [
    "qtde_voo_destino_sul_domestico = dataframe.loc[((dataframe.AERO_DESTINO_REGIAO == 'SUL') & \n",
    "               (dataframe.NATUREZA == 'DOMÉSTICA') & (dataframe.ANO == 2019))]['DECOLAGENS'].sum()"
   ]
  },
  {
   "cell_type": "code",
   "execution_count": 44,
   "metadata": {},
   "outputs": [],
   "source": [
    "qtde_voo_destino_sul_internacional = dataframe.loc[((dataframe.AERO_DESTINO_REGIAO == 'SUL') & \n",
    "               (dataframe.NATUREZA == 'INTERNACIONAL') & (dataframe.ANO == 2019))]['DECOLAGENS'].sum()"
   ]
  },
  {
   "cell_type": "code",
   "execution_count": 45,
   "metadata": {},
   "outputs": [],
   "source": [
    "qtde_voo_destino_norte_domestico = dataframe.loc[((dataframe.AERO_DESTINO_REGIAO == 'NORTE') &\n",
    "               (dataframe.NATUREZA == 'DOMÉSTICA') & (dataframe.ANO == 2019))]['DECOLAGENS'].sum()"
   ]
  },
  {
   "cell_type": "code",
   "execution_count": 46,
   "metadata": {},
   "outputs": [],
   "source": [
    "qtde_voo_destino_norte_internacional = dataframe.loc[((dataframe.AERO_DESTINO_REGIAO == 'NORTE') & \n",
    "               (dataframe.NATUREZA == 'INTERNACIONAL') & (dataframe.ANO == 2019))]['DECOLAGENS'].sum()"
   ]
  },
  {
   "cell_type": "code",
   "execution_count": 47,
   "metadata": {},
   "outputs": [],
   "source": [
    "qtde_voo_destino_sudeste_domestico = dataframe.loc[((dataframe.AERO_DESTINO_REGIAO == 'SUDESTE') &\n",
    "               (dataframe.NATUREZA == 'DOMÉSTICA') & (dataframe.ANO == 2019))]['DECOLAGENS'].sum()"
   ]
  },
  {
   "cell_type": "code",
   "execution_count": 48,
   "metadata": {},
   "outputs": [],
   "source": [
    "qtde_voo_destino_sudeste_internacional = dataframe.loc[((dataframe.AERO_DESTINO_REGIAO == 'SUDESTE') & \n",
    "               (dataframe.NATUREZA == 'INTERNACIONAL') & (dataframe.ANO == 2019))]['DECOLAGENS'].sum()"
   ]
  },
  {
   "cell_type": "code",
   "execution_count": 49,
   "metadata": {},
   "outputs": [],
   "source": [
    "qtde_voo_destino_nordeste_domestico = dataframe.loc[((dataframe.AERO_DESTINO_REGIAO == 'NORDESTE') &\n",
    "               (dataframe.NATUREZA == 'DOMÉSTICA') & (dataframe.ANO == 2019))]['DECOLAGENS'].sum()"
   ]
  },
  {
   "cell_type": "code",
   "execution_count": 50,
   "metadata": {},
   "outputs": [],
   "source": [
    "qtde_voo_destino_nordeste_internacional = dataframe.loc[((dataframe.AERO_DESTINO_REGIAO == 'NORDESTE') &\n",
    "               (dataframe.NATUREZA == 'INTERNACIONAL') & (dataframe.ANO == 2019))]['DECOLAGENS'].sum()"
   ]
  },
  {
   "cell_type": "code",
   "execution_count": 51,
   "metadata": {},
   "outputs": [],
   "source": [
    "qtde_voo_destino_centrooeste_domestico = dataframe.loc[((dataframe.AERO_DESTINO_REGIAO == 'CENTRO-OESTE') &\n",
    "               (dataframe.NATUREZA == 'DOMÉSTICA') & (dataframe.ANO == 2019))]['DECOLAGENS'].sum()"
   ]
  },
  {
   "cell_type": "code",
   "execution_count": 52,
   "metadata": {},
   "outputs": [],
   "source": [
    "qtde_voo_destino_centrooeste_internacional = dataframe.loc[((dataframe.AERO_DESTINO_REGIAO == 'CENTRO-OESTE') &\n",
    "               (dataframe.NATUREZA == 'INTERNACIONAL') & (dataframe.ANO == 2019))]['DECOLAGENS'].sum()"
   ]
  },
  {
   "cell_type": "code",
   "execution_count": 53,
   "metadata": {},
   "outputs": [],
   "source": [
    "valores_observados = {'REGIAO_DESTINO':['NORTE','SUL','SUDESTE','NORDESTE','CENTRO-OESTE'],\n",
    "                'DOMÉSTICO': [\n",
    "                    qtde_voo_destino_norte_domestico,\n",
    "                    qtde_voo_destino_sul_domestico,\n",
    "                    qtde_voo_destino_sudeste_domestico,\n",
    "                    qtde_voo_destino_nordeste_domestico,\n",
    "                    qtde_voo_destino_centrooeste_domestico], \n",
    "                'INTERNACIONAL':[\n",
    "                    qtde_voo_destino_norte_internacional,\n",
    "                    qtde_voo_destino_sul_internacional,\n",
    "                    qtde_voo_destino_sudeste_internacional,\n",
    "                    qtde_voo_destino_nordeste_internacional,\n",
    "                    qtde_voo_destino_centrooeste_internacional],\n",
    "                'TOTAL':[\n",
    "                    qtde_voo_destino_norte_domestico + qtde_voo_destino_norte_internacional,\n",
    "                    qtde_voo_destino_sul_domestico + qtde_voo_destino_sul_internacional,\n",
    "                    qtde_voo_destino_sudeste_domestico + qtde_voo_destino_sudeste_internacional,\n",
    "                    qtde_voo_destino_nordeste_domestico + qtde_voo_destino_nordeste_internacional,\n",
    "                    qtde_voo_destino_centrooeste_domestico + qtde_voo_destino_centrooeste_internacional] \n",
    "                      \n",
    "                     } "
   ]
  },
  {
   "cell_type": "code",
   "execution_count": 54,
   "metadata": {},
   "outputs": [
    {
     "data": {
      "text/html": [
       "<div>\n",
       "<style scoped>\n",
       "    .dataframe tbody tr th:only-of-type {\n",
       "        vertical-align: middle;\n",
       "    }\n",
       "\n",
       "    .dataframe tbody tr th {\n",
       "        vertical-align: top;\n",
       "    }\n",
       "\n",
       "    .dataframe thead th {\n",
       "        text-align: right;\n",
       "    }\n",
       "</style>\n",
       "<table border=\"1\" class=\"dataframe\">\n",
       "  <thead>\n",
       "    <tr style=\"text-align: right;\">\n",
       "      <th></th>\n",
       "      <th>REGIAO_DESTINO</th>\n",
       "      <th>DOMÉSTICO</th>\n",
       "      <th>INTERNACIONAL</th>\n",
       "      <th>TOTAL</th>\n",
       "    </tr>\n",
       "  </thead>\n",
       "  <tbody>\n",
       "    <tr>\n",
       "      <th>0</th>\n",
       "      <td>NORTE</td>\n",
       "      <td>49423.0</td>\n",
       "      <td>1969.0</td>\n",
       "      <td>51392.0</td>\n",
       "    </tr>\n",
       "    <tr>\n",
       "      <th>1</th>\n",
       "      <td>SUL</td>\n",
       "      <td>111250.0</td>\n",
       "      <td>4635.0</td>\n",
       "      <td>115885.0</td>\n",
       "    </tr>\n",
       "    <tr>\n",
       "      <th>2</th>\n",
       "      <td>SUDESTE</td>\n",
       "      <td>409199.0</td>\n",
       "      <td>55573.0</td>\n",
       "      <td>464772.0</td>\n",
       "    </tr>\n",
       "    <tr>\n",
       "      <th>3</th>\n",
       "      <td>NORDESTE</td>\n",
       "      <td>142207.0</td>\n",
       "      <td>4964.0</td>\n",
       "      <td>147171.0</td>\n",
       "    </tr>\n",
       "    <tr>\n",
       "      <th>4</th>\n",
       "      <td>CENTRO-OESTE</td>\n",
       "      <td>97846.0</td>\n",
       "      <td>2164.0</td>\n",
       "      <td>100010.0</td>\n",
       "    </tr>\n",
       "  </tbody>\n",
       "</table>\n",
       "</div>"
      ],
      "text/plain": [
       "  REGIAO_DESTINO  DOMÉSTICO  INTERNACIONAL     TOTAL\n",
       "0          NORTE    49423.0         1969.0   51392.0\n",
       "1            SUL   111250.0         4635.0  115885.0\n",
       "2        SUDESTE   409199.0        55573.0  464772.0\n",
       "3       NORDESTE   142207.0         4964.0  147171.0\n",
       "4   CENTRO-OESTE    97846.0         2164.0  100010.0"
      ]
     },
     "execution_count": 54,
     "metadata": {},
     "output_type": "execute_result"
    }
   ],
   "source": [
    "frame_valores_obs = pd.DataFrame(valores_observados)\n",
    "frame_valores_obs"
   ]
  },
  {
   "cell_type": "code",
   "execution_count": 55,
   "metadata": {},
   "outputs": [
    {
     "data": {
      "text/html": [
       "<div>\n",
       "<style scoped>\n",
       "    .dataframe tbody tr th:only-of-type {\n",
       "        vertical-align: middle;\n",
       "    }\n",
       "\n",
       "    .dataframe tbody tr th {\n",
       "        vertical-align: top;\n",
       "    }\n",
       "\n",
       "    .dataframe thead th {\n",
       "        text-align: right;\n",
       "    }\n",
       "</style>\n",
       "<table border=\"1\" class=\"dataframe\">\n",
       "  <thead>\n",
       "    <tr style=\"text-align: right;\">\n",
       "      <th></th>\n",
       "      <th>REGIAO_DESTINO</th>\n",
       "      <th>DOMÉSTICO</th>\n",
       "      <th>INTERNACIONAL</th>\n",
       "      <th>TOTAL</th>\n",
       "    </tr>\n",
       "  </thead>\n",
       "  <tbody>\n",
       "    <tr>\n",
       "      <th>0</th>\n",
       "      <td>NORTE</td>\n",
       "      <td>49423.0</td>\n",
       "      <td>1969.0</td>\n",
       "      <td>51392.0</td>\n",
       "    </tr>\n",
       "    <tr>\n",
       "      <th>1</th>\n",
       "      <td>SUL</td>\n",
       "      <td>111250.0</td>\n",
       "      <td>4635.0</td>\n",
       "      <td>115885.0</td>\n",
       "    </tr>\n",
       "    <tr>\n",
       "      <th>2</th>\n",
       "      <td>SUDESTE</td>\n",
       "      <td>409199.0</td>\n",
       "      <td>55573.0</td>\n",
       "      <td>464772.0</td>\n",
       "    </tr>\n",
       "    <tr>\n",
       "      <th>3</th>\n",
       "      <td>NORDESTE</td>\n",
       "      <td>142207.0</td>\n",
       "      <td>4964.0</td>\n",
       "      <td>147171.0</td>\n",
       "    </tr>\n",
       "    <tr>\n",
       "      <th>4</th>\n",
       "      <td>CENTRO-OESTE</td>\n",
       "      <td>97846.0</td>\n",
       "      <td>2164.0</td>\n",
       "      <td>100010.0</td>\n",
       "    </tr>\n",
       "    <tr>\n",
       "      <th>5</th>\n",
       "      <td>TOTAL</td>\n",
       "      <td>809925.0</td>\n",
       "      <td>69305.0</td>\n",
       "      <td>879230.0</td>\n",
       "    </tr>\n",
       "  </tbody>\n",
       "</table>\n",
       "</div>"
      ],
      "text/plain": [
       "  REGIAO_DESTINO  DOMÉSTICO  INTERNACIONAL     TOTAL\n",
       "0          NORTE    49423.0         1969.0   51392.0\n",
       "1            SUL   111250.0         4635.0  115885.0\n",
       "2        SUDESTE   409199.0        55573.0  464772.0\n",
       "3       NORDESTE   142207.0         4964.0  147171.0\n",
       "4   CENTRO-OESTE    97846.0         2164.0  100010.0\n",
       "5          TOTAL   809925.0        69305.0  879230.0"
      ]
     },
     "execution_count": 55,
     "metadata": {},
     "output_type": "execute_result"
    }
   ],
   "source": [
    "frame_valores_obs.loc[5] = ['TOTAL', frame_valores_obs['DOMÉSTICO'].sum(), frame_valores_obs['INTERNACIONAL'].sum(), frame_valores_obs['TOTAL'].sum()] \n",
    "frame_valores_obs"
   ]
  },
  {
   "cell_type": "code",
   "execution_count": 56,
   "metadata": {},
   "outputs": [],
   "source": [
    "frame_valores_esperados = frame_valores_obs.copy()"
   ]
  },
  {
   "cell_type": "code",
   "execution_count": 57,
   "metadata": {},
   "outputs": [],
   "source": [
    "frame_valores_esperados = frame_valores_esperados.drop(columns=['TOTAL'])\n",
    "frame_valores_esperados = frame_valores_esperados.drop(5)"
   ]
  },
  {
   "cell_type": "code",
   "execution_count": 68,
   "metadata": {},
   "outputs": [],
   "source": [
    "for i in range(5):\n",
    "    frame_valores_esperados.at[i, 'DOMÉSTICO'] = round((frame_valores_obs.at[5, 'DOMÉSTICO']*frame_valores_obs.at[i, 'TOTAL'])/frame_valores_obs.at[5, 'TOTAL'],2)\n",
    "    frame_valores_esperados.at[i, 'INTERNACIONAL'] = round((frame_valores_obs.at[5, 'INTERNACIONAL']*frame_valores_obs.at[i, 'TOTAL'])/frame_valores_obs.at[5, 'TOTAL'],2)"
   ]
  },
  {
   "cell_type": "code",
   "execution_count": 69,
   "metadata": {},
   "outputs": [
    {
     "data": {
      "text/html": [
       "<div>\n",
       "<style scoped>\n",
       "    .dataframe tbody tr th:only-of-type {\n",
       "        vertical-align: middle;\n",
       "    }\n",
       "\n",
       "    .dataframe tbody tr th {\n",
       "        vertical-align: top;\n",
       "    }\n",
       "\n",
       "    .dataframe thead th {\n",
       "        text-align: right;\n",
       "    }\n",
       "</style>\n",
       "<table border=\"1\" class=\"dataframe\">\n",
       "  <thead>\n",
       "    <tr style=\"text-align: right;\">\n",
       "      <th></th>\n",
       "      <th>REGIAO_DESTINO</th>\n",
       "      <th>DOMÉSTICO</th>\n",
       "      <th>INTERNACIONAL</th>\n",
       "    </tr>\n",
       "  </thead>\n",
       "  <tbody>\n",
       "    <tr>\n",
       "      <th>0</th>\n",
       "      <td>NORTE</td>\n",
       "      <td>47341.04</td>\n",
       "      <td>4050.96</td>\n",
       "    </tr>\n",
       "    <tr>\n",
       "      <th>1</th>\n",
       "      <td>SUL</td>\n",
       "      <td>106750.41</td>\n",
       "      <td>9134.59</td>\n",
       "    </tr>\n",
       "    <tr>\n",
       "      <th>2</th>\n",
       "      <td>SUDESTE</td>\n",
       "      <td>428136.51</td>\n",
       "      <td>36635.49</td>\n",
       "    </tr>\n",
       "    <tr>\n",
       "      <th>3</th>\n",
       "      <td>NORDESTE</td>\n",
       "      <td>135570.30</td>\n",
       "      <td>11600.70</td>\n",
       "    </tr>\n",
       "    <tr>\n",
       "      <th>4</th>\n",
       "      <td>CENTRO-OESTE</td>\n",
       "      <td>92126.75</td>\n",
       "      <td>7883.25</td>\n",
       "    </tr>\n",
       "  </tbody>\n",
       "</table>\n",
       "</div>"
      ],
      "text/plain": [
       "  REGIAO_DESTINO  DOMÉSTICO  INTERNACIONAL\n",
       "0          NORTE   47341.04        4050.96\n",
       "1            SUL  106750.41        9134.59\n",
       "2        SUDESTE  428136.51       36635.49\n",
       "3       NORDESTE  135570.30       11600.70\n",
       "4   CENTRO-OESTE   92126.75        7883.25"
      ]
     },
     "execution_count": 69,
     "metadata": {},
     "output_type": "execute_result"
    }
   ],
   "source": [
    "frame_valores_esperados"
   ]
  },
  {
   "cell_type": "code",
   "execution_count": 70,
   "metadata": {},
   "outputs": [
    {
     "data": {
      "text/html": [
       "<div>\n",
       "<style scoped>\n",
       "    .dataframe tbody tr th:only-of-type {\n",
       "        vertical-align: middle;\n",
       "    }\n",
       "\n",
       "    .dataframe tbody tr th {\n",
       "        vertical-align: top;\n",
       "    }\n",
       "\n",
       "    .dataframe thead th {\n",
       "        text-align: right;\n",
       "    }\n",
       "</style>\n",
       "<table border=\"1\" class=\"dataframe\">\n",
       "  <thead>\n",
       "    <tr style=\"text-align: right;\">\n",
       "      <th></th>\n",
       "      <th>REGIAO_DESTINO</th>\n",
       "      <th>DOMÉSTICO</th>\n",
       "      <th>INTERNACIONAL</th>\n",
       "      <th>TOTAL</th>\n",
       "    </tr>\n",
       "  </thead>\n",
       "  <tbody>\n",
       "    <tr>\n",
       "      <th>0</th>\n",
       "      <td>NORTE</td>\n",
       "      <td>49423.0</td>\n",
       "      <td>1969.0</td>\n",
       "      <td>51392.0</td>\n",
       "    </tr>\n",
       "    <tr>\n",
       "      <th>1</th>\n",
       "      <td>SUL</td>\n",
       "      <td>111250.0</td>\n",
       "      <td>4635.0</td>\n",
       "      <td>115885.0</td>\n",
       "    </tr>\n",
       "    <tr>\n",
       "      <th>2</th>\n",
       "      <td>SUDESTE</td>\n",
       "      <td>409199.0</td>\n",
       "      <td>55573.0</td>\n",
       "      <td>464772.0</td>\n",
       "    </tr>\n",
       "    <tr>\n",
       "      <th>3</th>\n",
       "      <td>NORDESTE</td>\n",
       "      <td>142207.0</td>\n",
       "      <td>4964.0</td>\n",
       "      <td>147171.0</td>\n",
       "    </tr>\n",
       "    <tr>\n",
       "      <th>4</th>\n",
       "      <td>CENTRO-OESTE</td>\n",
       "      <td>97846.0</td>\n",
       "      <td>2164.0</td>\n",
       "      <td>100010.0</td>\n",
       "    </tr>\n",
       "    <tr>\n",
       "      <th>5</th>\n",
       "      <td>TOTAL</td>\n",
       "      <td>809925.0</td>\n",
       "      <td>69305.0</td>\n",
       "      <td>879230.0</td>\n",
       "    </tr>\n",
       "  </tbody>\n",
       "</table>\n",
       "</div>"
      ],
      "text/plain": [
       "  REGIAO_DESTINO  DOMÉSTICO  INTERNACIONAL     TOTAL\n",
       "0          NORTE    49423.0         1969.0   51392.0\n",
       "1            SUL   111250.0         4635.0  115885.0\n",
       "2        SUDESTE   409199.0        55573.0  464772.0\n",
       "3       NORDESTE   142207.0         4964.0  147171.0\n",
       "4   CENTRO-OESTE    97846.0         2164.0  100010.0\n",
       "5          TOTAL   809925.0        69305.0  879230.0"
      ]
     },
     "execution_count": 70,
     "metadata": {},
     "output_type": "execute_result"
    }
   ],
   "source": [
    "frame_valores_obs"
   ]
  },
  {
   "cell_type": "code",
   "execution_count": 71,
   "metadata": {},
   "outputs": [
    {
     "data": {
      "text/plain": [
       "[49423.0,\n",
       " 111250.0,\n",
       " 409199.0,\n",
       " 142207.0,\n",
       " 97846.0,\n",
       " 1969.0,\n",
       " 4635.0,\n",
       " 55573.0,\n",
       " 4964.0,\n",
       " 2164.0]"
      ]
     },
     "execution_count": 71,
     "metadata": {},
     "output_type": "execute_result"
    }
   ],
   "source": [
    "lista_obs = list(frame_valores_obs['DOMÉSTICO'][:5])\n",
    "lista_obs.extend(frame_valores_obs['INTERNACIONAL'][:5])\n",
    "lista_obs"
   ]
  },
  {
   "cell_type": "code",
   "execution_count": 72,
   "metadata": {},
   "outputs": [
    {
     "data": {
      "text/plain": [
       "[47341.04,\n",
       " 106750.41,\n",
       " 428136.51,\n",
       " 135570.3,\n",
       " 92126.75,\n",
       " 4050.96,\n",
       " 9134.59,\n",
       " 36635.49,\n",
       " 11600.7,\n",
       " 7883.25]"
      ]
     },
     "execution_count": 72,
     "metadata": {},
     "output_type": "execute_result"
    }
   ],
   "source": [
    "lista_esp = list(frame_valores_esperados['DOMÉSTICO'][:5])\n",
    "lista_esp.extend(frame_valores_esperados['INTERNACIONAL'][:5])\n",
    "lista_esp"
   ]
  },
  {
   "cell_type": "code",
   "execution_count": 73,
   "metadata": {},
   "outputs": [
    {
     "name": "stdout",
     "output_type": "stream",
     "text": [
      "Power_divergenceResult(statistic=22820.49370535177, pvalue=0.0)\n"
     ]
    }
   ],
   "source": [
    "print(stats.chisquare(lista_obs,lista_esp))"
   ]
  },
  {
   "cell_type": "markdown",
   "metadata": {},
   "source": [
    "**<h1>Hipóteses</h1>**\n",
    "\n",
    "H0 = A natureza do voo independe da região de destino\n",
    "\n",
    "H1 = A natureza do voo está associada a região de destino"
   ]
  },
  {
   "cell_type": "markdown",
   "metadata": {},
   "source": [
    "**<h1>Conclusão:</h1>**\n",
    "\n",
    "p = 0.0 < $ \\alpha $ = 0.05, logo rejeita-se a H0 e **aceita-se a H1**, ou seja, a natureza do voo está estatisticamente associada a região de destino ao nível de 5% de significância."
   ]
  }
 ],
 "metadata": {
  "kernelspec": {
   "display_name": "Python 3",
   "language": "python",
   "name": "python3"
  },
  "language_info": {
   "codemirror_mode": {
    "name": "ipython",
    "version": 3
   },
   "file_extension": ".py",
   "mimetype": "text/x-python",
   "name": "python",
   "nbconvert_exporter": "python",
   "pygments_lexer": "ipython3",
   "version": "3.8.5"
  }
 },
 "nbformat": 4,
 "nbformat_minor": 4
}
