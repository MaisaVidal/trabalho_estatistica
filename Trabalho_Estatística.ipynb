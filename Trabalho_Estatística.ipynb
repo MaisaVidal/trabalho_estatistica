{
 "cells": [
  {
   "cell_type": "markdown",
   "metadata": {},
   "source": [
    "**METODOLOGIA PARA O TRABALHO FINAL DE ESTATÍSTICA PARA CIÊNCIA DE DADOS**\n",
    "\n",
    "**Objetivo:** *Definir um tema e realizar um levantamento amostral atendendo os procedimentos a seguir*\n",
    "\n",
    "**Procedimentos gerais:**\n",
    "\n",
    "* Serão criados grupos com no mínimo 3 e no máximo 6 alunos;\n",
    "* Cada grupo terá um representante que será responsável por postar o nome dos componentes no mural do classroom, que será disponibilizado para postagem do trabalho;\n",
    "* A avaliação vale de zero a sete pontos;\n",
    "* A definição do tema e dos objetivos ficarão na responsabilidade de cada grupo;\n",
    "* O data frame terá que conter no mínimo cinco campos e 25 linhas, sendo pelo menos dois campos numéricos;\n",
    "* Todas as análises deverão ser realizadas no Python e apresentadas durante a aula do dia 19/11;\n",
    "* O data frame juntamente com os scripts das análises dos dados precisarão ser postados antes da apresentação da primeira equipe;\n",
    "* A duração da apresentação de cada equipe é de no máximo 10 minutos;\n",
    "* A ordem de apresentação dos grupos será realizada por meio de sorteio no dia da apresentação.\n",
    "* Análises que deverão ser realizadas:\n",
    "\n",
    "**a)** (Vale 1,0 ponto) Construir tabelas e gráficos apropriados para cada variável do data frame;\n",
    "\n",
    "**b)** (Vale 1,0 ponto) Calcular a média, mediana, moda, desvio-padrão, coeficiente de variação e simetria das variáveis quantitativas;\n",
    "\n",
    "**c)** (Vale 1,0 ponto) Analisar a normalidade dos dados numéricos e se existe a presença de outliers;\n",
    "\n",
    "**d)** (Vale 1,0 ponto) Comparar as variáveis quantitativas e descrever qual é mais homogênea;\n",
    "\n",
    "**e)** (Vale 1,0 ponto) Calcular os respectivos Intervalos de Confiança ao nível de 95% para cada campo do data frame;\n",
    "\n",
    "**f)** (Vale 1,0 ponto) Comparar a média de um campo numérico em relação a um campo categórico e responder se existe diferença estatística ao nível de 5% de significância;\n",
    "\n",
    "**g)** (Vale 1,0 ponto) Realizar um cruzamento de dois campos categóricos e responder se existe diferença estatística ao nível de 5% de significância."
   ]
  },
  {
   "cell_type": "code",
   "execution_count": null,
   "metadata": {},
   "outputs": [],
   "source": []
  },
  {
   "cell_type": "code",
   "execution_count": 54,
   "metadata": {},
   "outputs": [
    {
     "ename": "ModuleNotFoundError",
     "evalue": "No module named 'pandas'",
     "output_type": "error",
     "traceback": [
      "\u001b[0;31m---------------------------------------------------------------------------\u001b[0m",
      "\u001b[0;31mModuleNotFoundError\u001b[0m                       Traceback (most recent call last)",
      "\u001b[0;32m<ipython-input-54-02af012e96dd>\u001b[0m in \u001b[0;36m<module>\u001b[0;34m\u001b[0m\n\u001b[1;32m      1\u001b[0m \u001b[0;32mimport\u001b[0m \u001b[0mcsv\u001b[0m\u001b[0;34m\u001b[0m\u001b[0;34m\u001b[0m\u001b[0m\n\u001b[0;32m----> 2\u001b[0;31m \u001b[0;32mimport\u001b[0m \u001b[0mpandas\u001b[0m \u001b[0;32mas\u001b[0m \u001b[0mpd\u001b[0m\u001b[0;34m\u001b[0m\u001b[0;34m\u001b[0m\u001b[0m\n\u001b[0m\u001b[1;32m      3\u001b[0m \u001b[0;34m\u001b[0m\u001b[0m\n\u001b[1;32m      4\u001b[0m \u001b[0;32mwith\u001b[0m \u001b[0mopen\u001b[0m\u001b[0;34m(\u001b[0m\u001b[0;34m'chegadas_2017.csv'\u001b[0m\u001b[0;34m,\u001b[0m\u001b[0;34m'rb'\u001b[0m\u001b[0;34m)\u001b[0m \u001b[0;32mas\u001b[0m \u001b[0mfile\u001b[0m\u001b[0;34m:\u001b[0m\u001b[0;34m\u001b[0m\u001b[0;34m\u001b[0m\u001b[0m\n\u001b[1;32m      5\u001b[0m     \u001b[0mtable\u001b[0m \u001b[0;34m=\u001b[0m \u001b[0mfile\u001b[0m\u001b[0;34m.\u001b[0m\u001b[0mreadlines\u001b[0m\u001b[0;34m(\u001b[0m\u001b[0;34m)\u001b[0m\u001b[0;34m\u001b[0m\u001b[0;34m\u001b[0m\u001b[0m\n",
      "\u001b[0;31mModuleNotFoundError\u001b[0m: No module named 'pandas'"
     ]
    }
   ],
   "source": [
    "import csv\n",
    "import pandas as pd\n",
    "\n",
    "with open('chegadas_2017.csv','rb') as file:\n",
    "    table = file.readlines()\n",
    "    print(type(table))\n",
    "    \n",
    "    \n",
    "    \n",
    "    #print(table.decode('latin-1'))\n",
    "    #for line in range(10):\n",
    "    #    print(table[line])\n",
    "    \"\"\"\n",
    "    i = 0\n",
    "    for line in table():\n",
    "        if i == 10:\n",
    "            break\n",
    "        else:\n",
    "            print(line)\n",
    "        i+=1\n",
    "    \"\"\"\n",
    "    #print(line.decode('latin-1'))\n",
    "    #print(reader)\n",
    "    #for line in table:\n",
    "    #    print(line)\n",
    "    #a = reader.decode('utf-8')\n",
    "    #for line in reader:\n",
    "    #    print(line)"
   ]
  },
  {
   "cell_type": "code",
   "execution_count": 52,
   "metadata": {},
   "outputs": [
    {
     "name": "stdout",
     "output_type": "stream",
     "text": [
      "WARNING: The conda.compat module is deprecated and will be removed in a future release.\n",
      "\n",
      "PackageNotInstalledError: Package is not installed in prefix.\n",
      "  prefix: /home/indtusuario/anaconda3/envs/my_env\n",
      "  package name: pandas\n",
      "\n",
      "\n"
     ]
    }
   ],
   "source": [
    "!conda update pandas"
   ]
  },
  {
   "cell_type": "code",
   "execution_count": null,
   "metadata": {},
   "outputs": [],
   "source": []
  }
 ],
 "metadata": {
  "kernelspec": {
   "display_name": "Python 3.9.0 64-bit ('my_env': conda)",
   "language": "python",
   "name": "python39064bitmyenvconda9a4329fd7a214e8c818ef05ba280a6d0"
  },
  "language_info": {
   "codemirror_mode": {
    "name": "ipython",
    "version": 3
   },
   "file_extension": ".py",
   "mimetype": "text/x-python",
   "name": "python",
   "nbconvert_exporter": "python",
   "pygments_lexer": "ipython3",
   "version": "3.9.0"
  }
 },
 "nbformat": 4,
 "nbformat_minor": 2
}
