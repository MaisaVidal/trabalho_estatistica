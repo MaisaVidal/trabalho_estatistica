{
 "cells": [
  {
   "cell_type": "markdown",
   "metadata": {},
   "source": [
    "**METODOLOGIA PARA O TRABALHO FINAL DE ESTATÍSTICA PARA CIÊNCIA DE DADOS**\n",
    "\n",
    "**Objetivo:** *Definir um tema e realizar um levantamento amostral atendendo os procedimentos a seguir*\n",
    "\n",
    "**Procedimentos gerais:**\n",
    "\n",
    "* Serão criados grupos com no mínimo 3 e no máximo 6 alunos;\n",
    "* Cada grupo terá um representante que será responsável por postar o nome dos componentes no mural do classroom, que será disponibilizado para postagem do trabalho;\n",
    "* A avaliação vale de zero a sete pontos;\n",
    "* A definição do tema e dos objetivos ficarão na responsabilidade de cada grupo;\n",
    "* O data frame terá que conter no mínimo cinco campos e 25 linhas, sendo pelo menos dois campos numéricos;\n",
    "* Todas as análises deverão ser realizadas no Python e apresentadas durante a aula do dia 19/11;\n",
    "* O data frame juntamente com os scripts das análises dos dados precisarão ser postados antes da apresentação da primeira equipe;\n",
    "* A duração da apresentação de cada equipe é de no máximo 10 minutos;\n",
    "* A ordem de apresentação dos grupos será realizada por meio de sorteio no dia da apresentação.\n",
    "* Análises que deverão ser realizadas:\n",
    "\n",
    "**a)** (Vale 1,0 ponto) Construir tabelas e gráficos apropriados para cada variável do data frame;\n",
    "\n",
    "**b)** (Vale 1,0 ponto) Calcular a média, mediana, moda, desvio-padrão, coeficiente de variação e simetria das variáveis quantitativas;\n",
    "\n",
    "**c)** (Vale 1,0 ponto) Analisar a normalidade dos dados numéricos e se existe a presença de outliers;\n",
    "\n",
    "**d)** (Vale 1,0 ponto) Comparar as variáveis quantitativas e descrever qual é mais homogênea;\n",
    "\n",
    "**e)** (Vale 1,0 ponto) Calcular os respectivos Intervalos de Confiança ao nível de 95% para cada campo do data frame;\n",
    "\n",
    "**f)** (Vale 1,0 ponto) Comparar a média de um campo numérico em relação a um campo categórico e responder se existe diferença estatística ao nível de 5% de significância;\n",
    "\n",
    "**g)** (Vale 1,0 ponto) Realizar um cruzamento de dois campos categóricos e responder se existe diferença estatística ao nível de 5% de significância."
   ]
  },
  {
   "cell_type": "code",
   "execution_count": null,
   "metadata": {},
   "outputs": [],
   "source": []
  }
 ],
 "metadata": {
  "kernelspec": {
   "display_name": "Python 3.9.0 64-bit ('my_env': conda)",
   "language": "python",
   "name": "python39064bitmyenvconda9a4329fd7a214e8c818ef05ba280a6d0"
  },
  "language_info": {
   "codemirror_mode": {
    "name": "ipython",
    "version": 3
   },
   "file_extension": ".py",
   "mimetype": "text/x-python",
   "name": "python",
   "nbconvert_exporter": "python",
   "pygments_lexer": "ipython3",
   "version": "3.9.0"
  }
 },
 "nbformat": 4,
 "nbformat_minor": 2
}
