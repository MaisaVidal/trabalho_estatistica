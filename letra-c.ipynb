{
 "cells": [
  {
   "cell_type": "code",
   "execution_count": 75,
   "metadata": {},
   "outputs": [
    {
     "name": "stdout",
     "output_type": "stream",
     "text": [
      "Collecting pingouin\n",
      "  Downloading pingouin-0.3.8.tar.gz (223 kB)\n",
      "Requirement already satisfied: numpy>=1.15 in c:\\users\\maisa\\anaconda3\\lib\\site-packages (from pingouin) (1.19.2)\n",
      "Requirement already satisfied: scipy>=1.3 in c:\\users\\maisa\\anaconda3\\lib\\site-packages (from pingouin) (1.5.2)\n",
      "Requirement already satisfied: pandas>=0.24 in c:\\users\\maisa\\anaconda3\\lib\\site-packages (from pingouin) (1.1.3)\n",
      "Requirement already satisfied: matplotlib>=3.0.2 in c:\\users\\maisa\\anaconda3\\lib\\site-packages (from pingouin) (3.3.2)\n",
      "Requirement already satisfied: seaborn>=0.9.0 in c:\\users\\maisa\\anaconda3\\lib\\site-packages (from pingouin) (0.11.0)\n",
      "Requirement already satisfied: statsmodels>=0.10.0 in c:\\users\\maisa\\anaconda3\\lib\\site-packages (from pingouin) (0.12.0)\n",
      "Requirement already satisfied: scikit-learn in c:\\users\\maisa\\anaconda3\\lib\\site-packages (from pingouin) (0.23.2)\n",
      "Collecting pandas_flavor>=0.1.2\n",
      "  Downloading pandas_flavor-0.2.0-py2.py3-none-any.whl (6.6 kB)\n",
      "Collecting outdated\n",
      "  Downloading outdated-0.2.0.tar.gz (4.0 kB)\n",
      "Collecting tabulate\n",
      "  Downloading tabulate-0.8.7-py3-none-any.whl (24 kB)\n",
      "Requirement already satisfied: python-dateutil>=2.7.3 in c:\\users\\maisa\\anaconda3\\lib\\site-packages (from pandas>=0.24->pingouin) (2.8.1)\n",
      "Requirement already satisfied: pytz>=2017.2 in c:\\users\\maisa\\anaconda3\\lib\\site-packages (from pandas>=0.24->pingouin) (2020.1)\n",
      "Requirement already satisfied: certifi>=2020.06.20 in c:\\users\\maisa\\anaconda3\\lib\\site-packages (from matplotlib>=3.0.2->pingouin) (2020.6.20)\n",
      "Requirement already satisfied: kiwisolver>=1.0.1 in c:\\users\\maisa\\anaconda3\\lib\\site-packages (from matplotlib>=3.0.2->pingouin) (1.3.0)\n",
      "Requirement already satisfied: pillow>=6.2.0 in c:\\users\\maisa\\anaconda3\\lib\\site-packages (from matplotlib>=3.0.2->pingouin) (8.0.1)\n",
      "Requirement already satisfied: pyparsing!=2.0.4,!=2.1.2,!=2.1.6,>=2.0.3 in c:\\users\\maisa\\anaconda3\\lib\\site-packages (from matplotlib>=3.0.2->pingouin) (2.4.7)\n",
      "Requirement already satisfied: cycler>=0.10 in c:\\users\\maisa\\anaconda3\\lib\\site-packages (from matplotlib>=3.0.2->pingouin) (0.10.0)\n",
      "Requirement already satisfied: patsy>=0.5 in c:\\users\\maisa\\anaconda3\\lib\\site-packages (from statsmodels>=0.10.0->pingouin) (0.5.1)\n",
      "Requirement already satisfied: threadpoolctl>=2.0.0 in c:\\users\\maisa\\anaconda3\\lib\\site-packages (from scikit-learn->pingouin) (2.1.0)\n",
      "Requirement already satisfied: joblib>=0.11 in c:\\users\\maisa\\anaconda3\\lib\\site-packages (from scikit-learn->pingouin) (0.17.0)\n",
      "Collecting xarray\n",
      "  Downloading xarray-0.16.2-py3-none-any.whl (736 kB)\n",
      "Collecting littleutils\n",
      "  Downloading littleutils-0.2.2.tar.gz (6.6 kB)\n",
      "Requirement already satisfied: requests in c:\\users\\maisa\\anaconda3\\lib\\site-packages (from outdated->pingouin) (2.24.0)\n",
      "Requirement already satisfied: six>=1.5 in c:\\users\\maisa\\anaconda3\\lib\\site-packages (from python-dateutil>=2.7.3->pandas>=0.24->pingouin) (1.15.0)\n",
      "Requirement already satisfied: setuptools>=38.4 in c:\\users\\maisa\\anaconda3\\lib\\site-packages (from xarray->pandas_flavor>=0.1.2->pingouin) (50.3.1.post20201107)\n",
      "Requirement already satisfied: idna<3,>=2.5 in c:\\users\\maisa\\anaconda3\\lib\\site-packages (from requests->outdated->pingouin) (2.10)\n",
      "Requirement already satisfied: chardet<4,>=3.0.2 in c:\\users\\maisa\\anaconda3\\lib\\site-packages (from requests->outdated->pingouin) (3.0.4)\n",
      "Requirement already satisfied: urllib3!=1.25.0,!=1.25.1,<1.26,>=1.21.1 in c:\\users\\maisa\\anaconda3\\lib\\site-packages (from requests->outdated->pingouin) (1.25.11)\n",
      "Building wheels for collected packages: pingouin, outdated, littleutils\n",
      "  Building wheel for pingouin (setup.py): started\n",
      "  Building wheel for pingouin (setup.py): finished with status 'done'\n",
      "  Created wheel for pingouin: filename=pingouin-0.3.8-py3-none-any.whl size=221692 sha256=158d30a617c3f6bbcab32a78fc82d0f2c442e5c2307ec27b4b67006201ef665b\n",
      "  Stored in directory: c:\\users\\maisa\\appdata\\local\\pip\\cache\\wheels\\6d\\60\\60\\30767bba9ffecc666e5feeed793b0e98ec6c8a37b714458a5e\n",
      "  Building wheel for outdated (setup.py): started\n",
      "  Building wheel for outdated (setup.py): finished with status 'done'\n",
      "  Created wheel for outdated: filename=outdated-0.2.0-py3-none-any.whl size=4964 sha256=8870d23c153b5b92cb29202c047b3f1337e5d5f2b5450eebef4360f822462133\n",
      "  Stored in directory: c:\\users\\maisa\\appdata\\local\\pip\\cache\\wheels\\2d\\4f\\c9\\062da6e68841f60d0c3434980775671daaa07a574110567de6\n",
      "  Building wheel for littleutils (setup.py): started\n",
      "  Building wheel for littleutils (setup.py): finished with status 'done'\n",
      "  Created wheel for littleutils: filename=littleutils-0.2.2-py3-none-any.whl size=7054 sha256=6a9589085c965987692a38683d5b2f49d9f46072f0c0d20ade55648744845710\n",
      "  Stored in directory: c:\\users\\maisa\\appdata\\local\\pip\\cache\\wheels\\6a\\33\\c4\\0ef84d7f5568c2823e3d63a6e08988852fb9e4bc822034870a\n",
      "Successfully built pingouin outdated littleutils\n",
      "Installing collected packages: xarray, pandas-flavor, littleutils, outdated, tabulate, pingouin\n",
      "Successfully installed littleutils-0.2.2 outdated-0.2.0 pandas-flavor-0.2.0 pingouin-0.3.8 tabulate-0.8.7 xarray-0.16.2\n"
     ]
    }
   ],
   "source": [
    "!pip install pingouin"
   ]
  },
  {
   "cell_type": "code",
   "execution_count": 105,
   "metadata": {},
   "outputs": [],
   "source": [
    "import pandas as pd\n",
    "from scipy import stats\n",
    "import matplotlib.pyplot as plt\n",
    "import seaborn as sns\n",
    "import pingouin as pg"
   ]
  },
  {
   "cell_type": "code",
   "execution_count": 162,
   "metadata": {},
   "outputs": [],
   "source": [
    "dataframe = pd.read_csv(\"DadosEstatisticos-com-colunas-de-interesse.csv\",sep=\";\",encoding='latin-1');"
   ]
  },
  {
   "cell_type": "code",
   "execution_count": 268,
   "metadata": {},
   "outputs": [],
   "source": [
    "dataframe.rename(columns={'EMPRESA (SIGLA)': 'EMPRESA_SIGLA'}, inplace = True)\n",
    "dataframe.rename(columns={'AEROPORTO DE ORIGEM (NOME)': 'AERO_ORIGEM'}, inplace = True)\n",
    "dataframe.rename(columns={'AEROPORTO DE DESTINO (NOME)': 'AERO_DESTINO'}, inplace = True)"
   ]
  },
  {
   "cell_type": "code",
   "execution_count": 269,
   "metadata": {},
   "outputs": [],
   "source": [
    "dataframe['HORAS VOADAS'] = dataframe['HORAS VOADAS'].apply(lambda x: str(x).replace(\",\",\".\"))"
   ]
  },
  {
   "cell_type": "code",
   "execution_count": 270,
   "metadata": {},
   "outputs": [],
   "source": [
    "dataframe['HORAS VOADAS'] = dataframe['HORAS VOADAS'].astype('float64')"
   ]
  },
  {
   "cell_type": "code",
   "execution_count": 274,
   "metadata": {},
   "outputs": [],
   "source": [
    "dataframe_TAM_MAO_BEL_2018_2019 = dataframe.loc[((dataframe.EMPRESA_SIGLA == 'TAM') &\n",
    "                                           (dataframe.AERO_ORIGEM == 'MANAUS') & \n",
    "                                           (dataframe.AERO_DESTINO == 'BELÉM') & \n",
    "                                           ((dataframe.ANO == 2018) | (dataframe.ANO == 2019)))]"
   ]
  },
  {
   "cell_type": "code",
   "execution_count": 275,
   "metadata": {},
   "outputs": [],
   "source": [
    "dataframe_TAM_MAO_BEL_2018_2019 = dataframe_dest_norte_2019.dropna()"
   ]
  },
  {
   "cell_type": "code",
   "execution_count": 276,
   "metadata": {},
   "outputs": [],
   "source": [
    "dataframe_TAM_MAO_BEL_2018_2019 = dataframe_TAM_MAO_BEL_2018_2019.groupby(['ANO','MÊS']).sum()"
   ]
  },
  {
   "cell_type": "markdown",
   "metadata": {},
   "source": [
    "**<h1>ESCOPO</h1>**\n",
    "\n",
    "Decolagens realizadas no ano de **2018 e 2019** de **MANAUS** para **BELEM** através da companhia aérea **TAM**.\n",
    "\n",
    "Fonte: ANAC (Agência Nacional de Aviação Civil)"
   ]
  },
  {
   "cell_type": "code",
   "execution_count": 277,
   "metadata": {},
   "outputs": [
    {
     "data": {
      "text/html": [
       "<div>\n",
       "<style scoped>\n",
       "    .dataframe tbody tr th:only-of-type {\n",
       "        vertical-align: middle;\n",
       "    }\n",
       "\n",
       "    .dataframe tbody tr th {\n",
       "        vertical-align: top;\n",
       "    }\n",
       "\n",
       "    .dataframe thead th {\n",
       "        text-align: right;\n",
       "    }\n",
       "</style>\n",
       "<table border=\"1\" class=\"dataframe\">\n",
       "  <thead>\n",
       "    <tr style=\"text-align: right;\">\n",
       "      <th></th>\n",
       "      <th></th>\n",
       "      <th>PASSAGEIROS PAGOS</th>\n",
       "      <th>PASSAGEIROS GRÁTIS</th>\n",
       "      <th>CARGA PAGA (KG)</th>\n",
       "      <th>CARGA GRÁTIS (KG)</th>\n",
       "      <th>DISTÂNCIA VOADA (KM)</th>\n",
       "      <th>DECOLAGENS</th>\n",
       "      <th>ASSENTOS</th>\n",
       "      <th>HORAS VOADAS</th>\n",
       "      <th>BAGAGEM (KG)</th>\n",
       "    </tr>\n",
       "    <tr>\n",
       "      <th>ANO</th>\n",
       "      <th>MÊS</th>\n",
       "      <th></th>\n",
       "      <th></th>\n",
       "      <th></th>\n",
       "      <th></th>\n",
       "      <th></th>\n",
       "      <th></th>\n",
       "      <th></th>\n",
       "      <th></th>\n",
       "      <th></th>\n",
       "    </tr>\n",
       "  </thead>\n",
       "  <tbody>\n",
       "    <tr>\n",
       "      <th rowspan=\"12\" valign=\"top\">2018</th>\n",
       "      <th>1</th>\n",
       "      <td>4104.0</td>\n",
       "      <td>4.0</td>\n",
       "      <td>49695.0</td>\n",
       "      <td>65.0</td>\n",
       "      <td>40269.0</td>\n",
       "      <td>31.0</td>\n",
       "      <td>6606.0</td>\n",
       "      <td>64.14</td>\n",
       "      <td>41610.0</td>\n",
       "    </tr>\n",
       "    <tr>\n",
       "      <th>2</th>\n",
       "      <td>3760.0</td>\n",
       "      <td>5.0</td>\n",
       "      <td>24835.0</td>\n",
       "      <td>311.0</td>\n",
       "      <td>35073.0</td>\n",
       "      <td>27.0</td>\n",
       "      <td>5894.0</td>\n",
       "      <td>55.60</td>\n",
       "      <td>33178.0</td>\n",
       "    </tr>\n",
       "    <tr>\n",
       "      <th>3</th>\n",
       "      <td>4330.0</td>\n",
       "      <td>4.0</td>\n",
       "      <td>43817.0</td>\n",
       "      <td>269.0</td>\n",
       "      <td>38970.0</td>\n",
       "      <td>30.0</td>\n",
       "      <td>6462.0</td>\n",
       "      <td>63.10</td>\n",
       "      <td>36038.0</td>\n",
       "    </tr>\n",
       "    <tr>\n",
       "      <th>4</th>\n",
       "      <td>5282.0</td>\n",
       "      <td>6.0</td>\n",
       "      <td>61760.0</td>\n",
       "      <td>2145.0</td>\n",
       "      <td>42867.0</td>\n",
       "      <td>33.0</td>\n",
       "      <td>7214.0</td>\n",
       "      <td>68.19</td>\n",
       "      <td>36330.0</td>\n",
       "    </tr>\n",
       "    <tr>\n",
       "      <th>5</th>\n",
       "      <td>5436.0</td>\n",
       "      <td>2.0</td>\n",
       "      <td>59988.0</td>\n",
       "      <td>973.0</td>\n",
       "      <td>45465.0</td>\n",
       "      <td>35.0</td>\n",
       "      <td>7700.0</td>\n",
       "      <td>72.26</td>\n",
       "      <td>39174.0</td>\n",
       "    </tr>\n",
       "    <tr>\n",
       "      <th>6</th>\n",
       "      <td>5519.0</td>\n",
       "      <td>8.0</td>\n",
       "      <td>53759.0</td>\n",
       "      <td>4601.0</td>\n",
       "      <td>41568.0</td>\n",
       "      <td>32.0</td>\n",
       "      <td>6994.0</td>\n",
       "      <td>66.44</td>\n",
       "      <td>39804.0</td>\n",
       "    </tr>\n",
       "    <tr>\n",
       "      <th>7</th>\n",
       "      <td>5877.0</td>\n",
       "      <td>9.0</td>\n",
       "      <td>45257.0</td>\n",
       "      <td>2266.0</td>\n",
       "      <td>46764.0</td>\n",
       "      <td>36.0</td>\n",
       "      <td>7920.0</td>\n",
       "      <td>73.38</td>\n",
       "      <td>45421.0</td>\n",
       "    </tr>\n",
       "    <tr>\n",
       "      <th>8</th>\n",
       "      <td>5619.0</td>\n",
       "      <td>8.0</td>\n",
       "      <td>59407.0</td>\n",
       "      <td>2164.0</td>\n",
       "      <td>45465.0</td>\n",
       "      <td>35.0</td>\n",
       "      <td>7700.0</td>\n",
       "      <td>71.51</td>\n",
       "      <td>40692.0</td>\n",
       "    </tr>\n",
       "    <tr>\n",
       "      <th>9</th>\n",
       "      <td>5390.0</td>\n",
       "      <td>6.0</td>\n",
       "      <td>48647.0</td>\n",
       "      <td>2545.0</td>\n",
       "      <td>42867.0</td>\n",
       "      <td>33.0</td>\n",
       "      <td>7260.0</td>\n",
       "      <td>67.86</td>\n",
       "      <td>33226.0</td>\n",
       "    </tr>\n",
       "    <tr>\n",
       "      <th>10</th>\n",
       "      <td>5881.0</td>\n",
       "      <td>27.0</td>\n",
       "      <td>42212.0</td>\n",
       "      <td>7.0</td>\n",
       "      <td>45465.0</td>\n",
       "      <td>35.0</td>\n",
       "      <td>7654.0</td>\n",
       "      <td>71.97</td>\n",
       "      <td>37697.0</td>\n",
       "    </tr>\n",
       "    <tr>\n",
       "      <th>11</th>\n",
       "      <td>6353.0</td>\n",
       "      <td>19.0</td>\n",
       "      <td>44723.0</td>\n",
       "      <td>900.0</td>\n",
       "      <td>44166.0</td>\n",
       "      <td>34.0</td>\n",
       "      <td>7296.0</td>\n",
       "      <td>70.49</td>\n",
       "      <td>39957.0</td>\n",
       "    </tr>\n",
       "    <tr>\n",
       "      <th>12</th>\n",
       "      <td>7251.0</td>\n",
       "      <td>27.0</td>\n",
       "      <td>51287.0</td>\n",
       "      <td>1.0</td>\n",
       "      <td>45465.0</td>\n",
       "      <td>35.0</td>\n",
       "      <td>7516.0</td>\n",
       "      <td>72.47</td>\n",
       "      <td>57558.0</td>\n",
       "    </tr>\n",
       "    <tr>\n",
       "      <th rowspan=\"12\" valign=\"top\">2019</th>\n",
       "      <th>1</th>\n",
       "      <td>6216.0</td>\n",
       "      <td>12.0</td>\n",
       "      <td>31504.0</td>\n",
       "      <td>4.0</td>\n",
       "      <td>45465.0</td>\n",
       "      <td>35.0</td>\n",
       "      <td>7516.0</td>\n",
       "      <td>70.34</td>\n",
       "      <td>41979.0</td>\n",
       "    </tr>\n",
       "    <tr>\n",
       "      <th>2</th>\n",
       "      <td>4829.0</td>\n",
       "      <td>16.0</td>\n",
       "      <td>53446.0</td>\n",
       "      <td>1.0</td>\n",
       "      <td>41568.0</td>\n",
       "      <td>32.0</td>\n",
       "      <td>6810.0</td>\n",
       "      <td>64.40</td>\n",
       "      <td>31020.0</td>\n",
       "    </tr>\n",
       "    <tr>\n",
       "      <th>3</th>\n",
       "      <td>5249.0</td>\n",
       "      <td>27.0</td>\n",
       "      <td>53236.0</td>\n",
       "      <td>274.0</td>\n",
       "      <td>44166.0</td>\n",
       "      <td>34.0</td>\n",
       "      <td>7250.0</td>\n",
       "      <td>70.76</td>\n",
       "      <td>30767.0</td>\n",
       "    </tr>\n",
       "    <tr>\n",
       "      <th>4</th>\n",
       "      <td>6093.0</td>\n",
       "      <td>18.0</td>\n",
       "      <td>54162.0</td>\n",
       "      <td>185.0</td>\n",
       "      <td>45465.0</td>\n",
       "      <td>35.0</td>\n",
       "      <td>7516.0</td>\n",
       "      <td>74.18</td>\n",
       "      <td>32059.0</td>\n",
       "    </tr>\n",
       "    <tr>\n",
       "      <th>5</th>\n",
       "      <td>4991.0</td>\n",
       "      <td>19.0</td>\n",
       "      <td>63382.0</td>\n",
       "      <td>1.0</td>\n",
       "      <td>45465.0</td>\n",
       "      <td>35.0</td>\n",
       "      <td>7516.0</td>\n",
       "      <td>72.30</td>\n",
       "      <td>28384.0</td>\n",
       "    </tr>\n",
       "    <tr>\n",
       "      <th>6</th>\n",
       "      <td>5749.0</td>\n",
       "      <td>21.0</td>\n",
       "      <td>55618.0</td>\n",
       "      <td>0.0</td>\n",
       "      <td>44166.0</td>\n",
       "      <td>34.0</td>\n",
       "      <td>7250.0</td>\n",
       "      <td>68.85</td>\n",
       "      <td>31144.0</td>\n",
       "    </tr>\n",
       "    <tr>\n",
       "      <th>7</th>\n",
       "      <td>5467.0</td>\n",
       "      <td>21.0</td>\n",
       "      <td>39371.0</td>\n",
       "      <td>906.0</td>\n",
       "      <td>45465.0</td>\n",
       "      <td>35.0</td>\n",
       "      <td>6676.0</td>\n",
       "      <td>72.27</td>\n",
       "      <td>31762.0</td>\n",
       "    </tr>\n",
       "    <tr>\n",
       "      <th>8</th>\n",
       "      <td>5215.0</td>\n",
       "      <td>9.0</td>\n",
       "      <td>19480.0</td>\n",
       "      <td>0.0</td>\n",
       "      <td>45465.0</td>\n",
       "      <td>35.0</td>\n",
       "      <td>6432.0</td>\n",
       "      <td>70.10</td>\n",
       "      <td>31533.0</td>\n",
       "    </tr>\n",
       "    <tr>\n",
       "      <th>9</th>\n",
       "      <td>4831.0</td>\n",
       "      <td>10.0</td>\n",
       "      <td>15809.0</td>\n",
       "      <td>0.0</td>\n",
       "      <td>44166.0</td>\n",
       "      <td>34.0</td>\n",
       "      <td>6360.0</td>\n",
       "      <td>69.65</td>\n",
       "      <td>25721.0</td>\n",
       "    </tr>\n",
       "    <tr>\n",
       "      <th>10</th>\n",
       "      <td>5022.0</td>\n",
       "      <td>5.0</td>\n",
       "      <td>18007.0</td>\n",
       "      <td>11.0</td>\n",
       "      <td>45465.0</td>\n",
       "      <td>35.0</td>\n",
       "      <td>6470.0</td>\n",
       "      <td>71.74</td>\n",
       "      <td>27362.0</td>\n",
       "    </tr>\n",
       "    <tr>\n",
       "      <th>11</th>\n",
       "      <td>3499.0</td>\n",
       "      <td>8.0</td>\n",
       "      <td>17853.0</td>\n",
       "      <td>983.0</td>\n",
       "      <td>35073.0</td>\n",
       "      <td>27.0</td>\n",
       "      <td>5016.0</td>\n",
       "      <td>55.20</td>\n",
       "      <td>17265.0</td>\n",
       "    </tr>\n",
       "    <tr>\n",
       "      <th>12</th>\n",
       "      <td>4820.0</td>\n",
       "      <td>17.0</td>\n",
       "      <td>22580.0</td>\n",
       "      <td>1094.0</td>\n",
       "      <td>38970.0</td>\n",
       "      <td>30.0</td>\n",
       "      <td>5362.0</td>\n",
       "      <td>61.58</td>\n",
       "      <td>33647.0</td>\n",
       "    </tr>\n",
       "  </tbody>\n",
       "</table>\n",
       "</div>"
      ],
      "text/plain": [
       "          PASSAGEIROS PAGOS  PASSAGEIROS GRÁTIS  CARGA PAGA (KG)  \\\n",
       "ANO  MÊS                                                           \n",
       "2018 1               4104.0                 4.0          49695.0   \n",
       "     2               3760.0                 5.0          24835.0   \n",
       "     3               4330.0                 4.0          43817.0   \n",
       "     4               5282.0                 6.0          61760.0   \n",
       "     5               5436.0                 2.0          59988.0   \n",
       "     6               5519.0                 8.0          53759.0   \n",
       "     7               5877.0                 9.0          45257.0   \n",
       "     8               5619.0                 8.0          59407.0   \n",
       "     9               5390.0                 6.0          48647.0   \n",
       "     10              5881.0                27.0          42212.0   \n",
       "     11              6353.0                19.0          44723.0   \n",
       "     12              7251.0                27.0          51287.0   \n",
       "2019 1               6216.0                12.0          31504.0   \n",
       "     2               4829.0                16.0          53446.0   \n",
       "     3               5249.0                27.0          53236.0   \n",
       "     4               6093.0                18.0          54162.0   \n",
       "     5               4991.0                19.0          63382.0   \n",
       "     6               5749.0                21.0          55618.0   \n",
       "     7               5467.0                21.0          39371.0   \n",
       "     8               5215.0                 9.0          19480.0   \n",
       "     9               4831.0                10.0          15809.0   \n",
       "     10              5022.0                 5.0          18007.0   \n",
       "     11              3499.0                 8.0          17853.0   \n",
       "     12              4820.0                17.0          22580.0   \n",
       "\n",
       "          CARGA GRÁTIS (KG)  DISTÂNCIA VOADA (KM)  DECOLAGENS  ASSENTOS  \\\n",
       "ANO  MÊS                                                                  \n",
       "2018 1                 65.0               40269.0        31.0    6606.0   \n",
       "     2                311.0               35073.0        27.0    5894.0   \n",
       "     3                269.0               38970.0        30.0    6462.0   \n",
       "     4               2145.0               42867.0        33.0    7214.0   \n",
       "     5                973.0               45465.0        35.0    7700.0   \n",
       "     6               4601.0               41568.0        32.0    6994.0   \n",
       "     7               2266.0               46764.0        36.0    7920.0   \n",
       "     8               2164.0               45465.0        35.0    7700.0   \n",
       "     9               2545.0               42867.0        33.0    7260.0   \n",
       "     10                 7.0               45465.0        35.0    7654.0   \n",
       "     11               900.0               44166.0        34.0    7296.0   \n",
       "     12                 1.0               45465.0        35.0    7516.0   \n",
       "2019 1                  4.0               45465.0        35.0    7516.0   \n",
       "     2                  1.0               41568.0        32.0    6810.0   \n",
       "     3                274.0               44166.0        34.0    7250.0   \n",
       "     4                185.0               45465.0        35.0    7516.0   \n",
       "     5                  1.0               45465.0        35.0    7516.0   \n",
       "     6                  0.0               44166.0        34.0    7250.0   \n",
       "     7                906.0               45465.0        35.0    6676.0   \n",
       "     8                  0.0               45465.0        35.0    6432.0   \n",
       "     9                  0.0               44166.0        34.0    6360.0   \n",
       "     10                11.0               45465.0        35.0    6470.0   \n",
       "     11               983.0               35073.0        27.0    5016.0   \n",
       "     12              1094.0               38970.0        30.0    5362.0   \n",
       "\n",
       "          HORAS VOADAS  BAGAGEM (KG)  \n",
       "ANO  MÊS                              \n",
       "2018 1           64.14       41610.0  \n",
       "     2           55.60       33178.0  \n",
       "     3           63.10       36038.0  \n",
       "     4           68.19       36330.0  \n",
       "     5           72.26       39174.0  \n",
       "     6           66.44       39804.0  \n",
       "     7           73.38       45421.0  \n",
       "     8           71.51       40692.0  \n",
       "     9           67.86       33226.0  \n",
       "     10          71.97       37697.0  \n",
       "     11          70.49       39957.0  \n",
       "     12          72.47       57558.0  \n",
       "2019 1           70.34       41979.0  \n",
       "     2           64.40       31020.0  \n",
       "     3           70.76       30767.0  \n",
       "     4           74.18       32059.0  \n",
       "     5           72.30       28384.0  \n",
       "     6           68.85       31144.0  \n",
       "     7           72.27       31762.0  \n",
       "     8           70.10       31533.0  \n",
       "     9           69.65       25721.0  \n",
       "     10          71.74       27362.0  \n",
       "     11          55.20       17265.0  \n",
       "     12          61.58       33647.0  "
      ]
     },
     "execution_count": 277,
     "metadata": {},
     "output_type": "execute_result"
    }
   ],
   "source": [
    "dataframe_TAM_MAO_BEL_2018_2019"
   ]
  },
  {
   "cell_type": "markdown",
   "metadata": {},
   "source": [
    "**<h1>NORMALIDADE DOS DADOS</h1>**\n",
    "\n",
    "Ho = Os dados apresentam distribuição\n",
    "\n",
    "H1 = Os dados não apresentam distribuição normal\n",
    "\n",
    "Se (p-valor) é menor que 0,05 (5%) rejeita-se a hipótese nula."
   ]
  },
  {
   "cell_type": "code",
   "execution_count": 278,
   "metadata": {},
   "outputs": [
    {
     "data": {
      "text/html": [
       "<div>\n",
       "<style scoped>\n",
       "    .dataframe tbody tr th:only-of-type {\n",
       "        vertical-align: middle;\n",
       "    }\n",
       "\n",
       "    .dataframe tbody tr th {\n",
       "        vertical-align: top;\n",
       "    }\n",
       "\n",
       "    .dataframe thead th {\n",
       "        text-align: right;\n",
       "    }\n",
       "</style>\n",
       "<table border=\"1\" class=\"dataframe\">\n",
       "  <thead>\n",
       "    <tr style=\"text-align: right;\">\n",
       "      <th></th>\n",
       "      <th>W</th>\n",
       "      <th>pval</th>\n",
       "      <th>normal</th>\n",
       "    </tr>\n",
       "  </thead>\n",
       "  <tbody>\n",
       "    <tr>\n",
       "      <th>PASSAGEIROS PAGOS</th>\n",
       "      <td>0.978428</td>\n",
       "      <td>0.865214</td>\n",
       "      <td>True</td>\n",
       "    </tr>\n",
       "    <tr>\n",
       "      <th>PASSAGEIROS GRÁTIS</th>\n",
       "      <td>0.904312</td>\n",
       "      <td>0.026595</td>\n",
       "      <td>False</td>\n",
       "    </tr>\n",
       "    <tr>\n",
       "      <th>CARGA PAGA (KG)</th>\n",
       "      <td>0.893130</td>\n",
       "      <td>0.015436</td>\n",
       "      <td>False</td>\n",
       "    </tr>\n",
       "    <tr>\n",
       "      <th>CARGA GRÁTIS (KG)</th>\n",
       "      <td>0.740834</td>\n",
       "      <td>0.000037</td>\n",
       "      <td>False</td>\n",
       "    </tr>\n",
       "    <tr>\n",
       "      <th>DISTÂNCIA VOADA (KM)</th>\n",
       "      <td>0.797985</td>\n",
       "      <td>0.000273</td>\n",
       "      <td>False</td>\n",
       "    </tr>\n",
       "    <tr>\n",
       "      <th>DECOLAGENS</th>\n",
       "      <td>0.797985</td>\n",
       "      <td>0.000273</td>\n",
       "      <td>False</td>\n",
       "    </tr>\n",
       "    <tr>\n",
       "      <th>ASSENTOS</th>\n",
       "      <td>0.904135</td>\n",
       "      <td>0.026363</td>\n",
       "      <td>False</td>\n",
       "    </tr>\n",
       "    <tr>\n",
       "      <th>HORAS VOADAS</th>\n",
       "      <td>0.844369</td>\n",
       "      <td>0.001722</td>\n",
       "      <td>False</td>\n",
       "    </tr>\n",
       "    <tr>\n",
       "      <th>BAGAGEM (KG)</th>\n",
       "      <td>0.947541</td>\n",
       "      <td>0.239517</td>\n",
       "      <td>True</td>\n",
       "    </tr>\n",
       "  </tbody>\n",
       "</table>\n",
       "</div>"
      ],
      "text/plain": [
       "                             W      pval  normal\n",
       "PASSAGEIROS PAGOS     0.978428  0.865214    True\n",
       "PASSAGEIROS GRÁTIS    0.904312  0.026595   False\n",
       "CARGA PAGA (KG)       0.893130  0.015436   False\n",
       "CARGA GRÁTIS (KG)     0.740834  0.000037   False\n",
       "DISTÂNCIA VOADA (KM)  0.797985  0.000273   False\n",
       "DECOLAGENS            0.797985  0.000273   False\n",
       "ASSENTOS              0.904135  0.026363   False\n",
       "HORAS VOADAS          0.844369  0.001722   False\n",
       "BAGAGEM (KG)          0.947541  0.239517    True"
      ]
     },
     "execution_count": 278,
     "metadata": {},
     "output_type": "execute_result"
    }
   ],
   "source": [
    "pg.normality(dataframe_TAM_MAO_BEL_2018_2019)"
   ]
  },
  {
   "cell_type": "code",
   "execution_count": 280,
   "metadata": {},
   "outputs": [
    {
     "data": {
      "image/png": "[encoded data removed]",
      "text/plain": [
       "<Figure size 360x288 with 1 Axes>"
      ]
     },
     "metadata": {
      "needs_background": "light"
     },
     "output_type": "display_data"
    }
   ],
   "source": [
    "x = dataframe_TAM_MAO_BEL_2018_2019['PASSAGEIROS PAGOS']\n",
    "ax = pg.qqplot(x, dist='norm')"
   ]
  },
  {
   "cell_type": "code",
   "execution_count": 279,
   "metadata": {},
   "outputs": [
    {
     "data": {
      "image/png": "[encoded data removed]",
      "text/plain": [
       "<Figure size 360x288 with 1 Axes>"
      ]
     },
     "metadata": {
      "needs_background": "light"
     },
     "output_type": "display_data"
    }
   ],
   "source": [
    "x = dataframe_TAM_MAO_BEL_2018_2019['BAGAGEM (KG)']\n",
    "ax = pg.qqplot(x, dist='norm')"
   ]
  },
  {
   "cell_type": "code",
   "execution_count": 283,
   "metadata": {},
   "outputs": [
    {
     "data": {
      "image/png": "[encoded data removed]",
      "text/plain": [
       "<Figure size 360x288 with 1 Axes>"
      ]
     },
     "metadata": {
      "needs_background": "light"
     },
     "output_type": "display_data"
    }
   ],
   "source": [
    "x = dataframe_TAM_MAO_BEL_2018_2019['CARGA GRÁTIS (KG)']\n",
    "ax = pg.qqplot(x, dist='norm')"
   ]
  },
  {
   "cell_type": "markdown",
   "metadata": {},
   "source": [
    "**<h1>CONCLUSÃO SOBRE A NORMALIDADE DOS DADOS</h1>**\n",
    "\n",
    "Os campos **\"PASSAGEIROS PAGOS\" e \"BAGAGEM (KG)\"**, no escopo delimitado, apresentam **distribuição normal**.\n",
    "\n",
    "O restante, não."
   ]
  },
  {
   "cell_type": "markdown",
   "metadata": {},
   "source": [
    "**<h1>OUTLIERS</h1>**"
   ]
  },
  {
   "cell_type": "code",
   "execution_count": 295,
   "metadata": {},
   "outputs": [
    {
     "name": "stderr",
     "output_type": "stream",
     "text": [
      "C:\\Users\\maisa\\anaconda3\\lib\\site-packages\\seaborn\\_decorators.py:36: FutureWarning: Pass the following variable as a keyword arg: x. From version 0.12, the only valid positional argument will be `data`, and passing other arguments without an explicit keyword will result in an error or misinterpretation.\n",
      "  warnings.warn(\n"
     ]
    },
    {
     "data": {
      "text/plain": [
       "<AxesSubplot:xlabel='PASSAGEIROS PAGOS'>"
      ]
     },
     "execution_count": 295,
     "metadata": {},
     "output_type": "execute_result"
    },
    {
     "data": {
      "image/png": "[encoded data removed]",
      "text/plain": [
       "<Figure size 432x288 with 1 Axes>"
      ]
     },
     "metadata": {
      "needs_background": "light"
     },
     "output_type": "display_data"
    }
   ],
   "source": [
    "sns.boxplot(dataframe_TAM_MAO_BEL_2018_2019['PASSAGEIROS PAGOS'])"
   ]
  },
  {
   "cell_type": "code",
   "execution_count": 296,
   "metadata": {},
   "outputs": [
    {
     "name": "stderr",
     "output_type": "stream",
     "text": [
      "C:\\Users\\maisa\\anaconda3\\lib\\site-packages\\seaborn\\_decorators.py:36: FutureWarning: Pass the following variable as a keyword arg: x. From version 0.12, the only valid positional argument will be `data`, and passing other arguments without an explicit keyword will result in an error or misinterpretation.\n",
      "  warnings.warn(\n"
     ]
    },
    {
     "data": {
      "text/plain": [
       "<AxesSubplot:xlabel='BAGAGEM (KG)'>"
      ]
     },
     "execution_count": 296,
     "metadata": {},
     "output_type": "execute_result"
    },
    {
     "data": {
      "image/png": "[encoded data removed]",
      "text/plain": [
       "<Figure size 432x288 with 1 Axes>"
      ]
     },
     "metadata": {
      "needs_background": "light"
     },
     "output_type": "display_data"
    }
   ],
   "source": [
    "sns.boxplot(dataframe_TAM_MAO_BEL_2018_2019['BAGAGEM (KG)'])"
   ]
  },
  {
   "cell_type": "code",
   "execution_count": 297,
   "metadata": {},
   "outputs": [
    {
     "name": "stderr",
     "output_type": "stream",
     "text": [
      "C:\\Users\\maisa\\anaconda3\\lib\\site-packages\\seaborn\\_decorators.py:36: FutureWarning: Pass the following variable as a keyword arg: x. From version 0.12, the only valid positional argument will be `data`, and passing other arguments without an explicit keyword will result in an error or misinterpretation.\n",
      "  warnings.warn(\n"
     ]
    },
    {
     "data": {
      "text/plain": [
       "<AxesSubplot:xlabel='CARGA GRÁTIS (KG)'>"
      ]
     },
     "execution_count": 297,
     "metadata": {},
     "output_type": "execute_result"
    },
    {
     "data": {
      "image/png": "[encoded data removed]",
      "text/plain": [
       "<Figure size 432x288 with 1 Axes>"
      ]
     },
     "metadata": {
      "needs_background": "light"
     },
     "output_type": "display_data"
    }
   ],
   "source": [
    "sns.boxplot(dataframe_dest_norte_2019['CARGA GRÁTIS (KG)'])"
   ]
  },
  {
   "cell_type": "markdown",
   "metadata": {},
   "source": [
    "**<h1>CONCLUSÃO SOBRE OUTLIERS</h1>**\n",
    "\n",
    "Há outliers nos dados.\n",
    "\n",
    "Como podemos perceber pelos boxes-plots, os campos **\"PASSAGEIROS PAGOS\", \"BAGAGEM (KG)\" e \"CARGA GRÁTIS (KG)\"** apresentam **outliers.**"
   ]
  }
 ],
 "metadata": {
  "kernelspec": {
   "display_name": "Python 3",
   "language": "python",
   "name": "python3"
  },
  "language_info": {
   "codemirror_mode": {
    "name": "ipython",
    "version": 3
   },
   "file_extension": ".py",
   "mimetype": "text/x-python",
   "name": "python",
   "nbconvert_exporter": "python",
   "pygments_lexer": "ipython3",
   "version": "3.8.5"
  }
 },
 "nbformat": 4,
 "nbformat_minor": 4
}
