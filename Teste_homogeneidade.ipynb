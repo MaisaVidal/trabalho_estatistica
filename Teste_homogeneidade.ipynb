{
  "nbformat": 4,
  "nbformat_minor": 0,
  "metadata": {
    "colab": {
      "name": "Teste_homogeneidade.ipynb",
      "provenance": [],
      "toc_visible": true
    },
    "kernelspec": {
      "name": "python3",
      "display_name": "Python 3"
    }
  },
  "cells": [
    {
      "cell_type": "markdown",
      "metadata": {
        "id": "vyQ5B_DAzimc"
      },
      "source": [
        "# Imports\n",
        "\n",
        "Usei os mesmos imports das soluções postadas"
      ]
    },
    {
      "cell_type": "code",
      "metadata": {
        "id": "u5KMRh31MV2l"
      },
      "source": [
        "import pandas as pd\n",
        "import numpy as np\n",
        "import seaborn as sns\n",
        "import matplotlib.pyplot as plt\n",
        "import sys\n",
        "\n",
        "import statistics as st\n",
        "from scipy import stats\n",
        "from collections import Counter\n",
        "import math"
      ],
      "execution_count": null,
      "outputs": []
    },
    {
      "cell_type": "markdown",
      "metadata": {
        "id": "obp5RG-OwW5F"
      },
      "source": [
        "# Leitura de arquivo CSV"
      ]
    },
    {
      "cell_type": "code",
      "metadata": {
        "id": "rOROHTQjMbIK"
      },
      "source": [
        "dataset = pd.read_csv('DadosEstatisticos.csv',sep=';',encoding = 'latin-1')  \n",
        "#dataset = pd.read_csv('/content/DadosEstatisticos-com-colunas-de-interesse.csv',sep=';',encoding = 'latin-1')\n",
        "#dataset.info()\n",
        "#dataset.head()"
      ],
      "execution_count": 218,
      "outputs": []
    },
    {
      "cell_type": "markdown",
      "metadata": {
        "id": "tht6hH70ep3G"
      },
      "source": [
        "# COLETA DE DADOS\n",
        "\n",
        "Deste ponto em diante, inicia-se a coleta dos dados para verificar os CV's com o intuito de realizar o teste de homogeneidade, de forma que, foi coletado os dados de cinco estados para efeito a comparação.\n"
      ]
    },
    {
      "cell_type": "code",
      "metadata": {
        "id": "gTIHqSgU0YRv"
      },
      "source": [
        "# RIO DE JANEIRO\n",
        "#dataset.loc[dataset['AEROPORTO DE ORIGEM (NOME)'] == 'RIO DE JANEIRO'].groupby(['ANO'])['BAGAGEM (KG)'].sum().plot(kind='bar', title='Distribuição de Decolagens - Voos Domésticos', xlabel='Ano',ylabel='Qtde de Decolagens')"
      ],
      "execution_count": null,
      "outputs": []
    },
    {
      "cell_type": "code",
      "metadata": {
        "id": "JVQXucSfEkxc"
      },
      "source": [
        "dataset_RJ_2017 = dataset[dataset['ANO']==2017] \n",
        "_dataset_RJ = dataset_RJ_2017[dataset_RJ_2017['AEROPORTO DE ORIGEM (NOME)']=='RIO DE JANEIRO'] \n",
        "groupby_RJ_2017 = _dataset_RJ[['AEROPORTO DE ORIGEM (NOME)','AEROPORTO DE DESTINO (NOME)','MÊS','ANO','BAGAGEM (KG)']].groupby(_dataset_RJ['BAGAGEM (KG)'])\n",
        "#groupby_RJ_2017.head(12)\n",
        "# print(type(groupby_RJ_2017))"
      ],
      "execution_count": null,
      "outputs": []
    },
    {
      "cell_type": "code",
      "metadata": {
        "id": "q9qTNytrEWCe"
      },
      "source": [
        "#GUARULHOS SP\n",
        "#dataset.loc[dataset['AEROPORTO DE ORIGEM (NOME)'] == 'GUARULHOS'].groupby(['ANO'])['BAGAGEM (KG)'].sum().plot(kind='bar', title='Distribuição de Decolagens - Voos Domésticos', xlabel='Ano',ylabel='Qtde de Decolagens')"
      ],
      "execution_count": null,
      "outputs": []
    },
    {
      "cell_type": "code",
      "metadata": {
        "id": "7mCFXVODFIpp"
      },
      "source": [
        "dataset_GUA_SP_2017 = dataset[dataset['ANO']==2017] \n",
        "_dataset_GUA_SP = dataset_GUA_SP_2017[dataset_GUA_SP_2017['AEROPORTO DE ORIGEM (NOME)']=='GUARULHOS'] \n",
        "groupby_GUA_SP_2017 = _dataset_GUA_SP[['AEROPORTO DE ORIGEM (NOME)','AEROPORTO DE DESTINO (NOME)','MÊS','ANO','BAGAGEM (KG)']].groupby(_dataset_GUA_SP['BAGAGEM (KG)'])\n",
        "#groupby_GUA_SP_2017.head(12)\n",
        "# print(type(groupby_GUA_SP_2017))"
      ],
      "execution_count": null,
      "outputs": []
    },
    {
      "cell_type": "code",
      "metadata": {
        "id": "MOHwODdjDZLi"
      },
      "source": [
        "#MANAUS\n",
        "#dataset.loc[dataset['AEROPORTO DE ORIGEM (NOME)'] == 'MANAUS'].groupby(['ANO'])['BAGAGEM (KG)'].sum().plot(kind='bar', title='Distribuição de Decolagens - Voos Domésticos', xlabel='Ano',ylabel='Qtde de Decolagens')"
      ],
      "execution_count": null,
      "outputs": []
    },
    {
      "cell_type": "code",
      "metadata": {
        "id": "0okH86RE0znn"
      },
      "source": [
        "dataset_manaus_2017 = dataset[dataset['ANO']==2017] \n",
        "_dataset_manaus = dataset_manaus_2017[dataset_manaus_2017['AEROPORTO DE ORIGEM (NOME)']=='MANAUS'] \n",
        "groupby_manaus_2017 = _dataset_manaus[['AEROPORTO DE ORIGEM (NOME)','AEROPORTO DE DESTINO (NOME)','MÊS','ANO','BAGAGEM (KG)']].groupby(_dataset_manaus['BAGAGEM (KG)'])\n",
        "#groupby_manaus_2017.head(12)\n",
        "# print(type(groupby_manaus_2017))"
      ],
      "execution_count": null,
      "outputs": []
    },
    {
      "cell_type": "code",
      "metadata": {
        "id": "HL2OU9XOMczW"
      },
      "source": [
        "dataset_SALVADOR_2017 = dataset[dataset['ANO']==2017] \n",
        "_dataset_SALVADOR = dataset_SALVADOR_2017[dataset_SALVADOR_2017['AEROPORTO DE ORIGEM (NOME)']=='SALVADOR'] \n",
        "groupby_SALVADOR_2017 = _dataset_SALVADOR[['AEROPORTO DE ORIGEM (NOME)','AEROPORTO DE DESTINO (NOME)','MÊS','ANO','BAGAGEM (KG)']].groupby(_dataset_SALVADOR['BAGAGEM (KG)'])\n",
        "#groupby_SALVADOR_2017.head(12)\n",
        "# print(type(groupby_SALVADOR_2017))"
      ],
      "execution_count": null,
      "outputs": []
    },
    {
      "cell_type": "code",
      "metadata": {
        "id": "Fqg8Hg1TNMPZ"
      },
      "source": [
        "dataset_BELÉM_2017 = dataset[dataset['ANO']==2017] \n",
        "_dataset_BELÉM = dataset_BELÉM_2017[dataset_BELÉM_2017['AEROPORTO DE ORIGEM (NOME)']=='BELÉM'] \n",
        "groupby_BELÉM_2017 = _dataset_BELÉM[['AEROPORTO DE ORIGEM (NOME)','AEROPORTO DE DESTINO (NOME)','MÊS','ANO','BAGAGEM (KG)']].groupby(_dataset_BELÉM['BAGAGEM (KG)'])\n",
        "#groupby_BELÉM_2017.head(12)\n",
        "# print(type(groupby_BELÉM_2017))"
      ],
      "execution_count": null,
      "outputs": []
    },
    {
      "cell_type": "code",
      "metadata": {
        "id": "dz6U3CxK1NfD"
      },
      "source": [
        "def coeficient_of_variation(var):\n",
        "  _cv = round(100*st.stdev(var)/st.mean(var), 2)\n",
        "  return _cv"
      ],
      "execution_count": null,
      "outputs": []
    },
    {
      "cell_type": "markdown",
      "metadata": {
        "id": "wrmdzAEpfWiU"
      },
      "source": [
        "# Coleta dos coeficientes de variações"
      ]
    },
    {
      "cell_type": "code",
      "metadata": {
        "colab": {
          "base_uri": "https://localhost:8080/"
        },
        "id": "1mj_B1aJ1Qgl",
        "outputId": "8aff2169-8d1c-4ef0-bfa8-a85af731d62c"
      },
      "source": [
        "def functionStatiscals(colum):\n",
        "  _res = 0\n",
        "  passageiros_gratis = []\n",
        "  for x in _dataset_manaus[colum]:\n",
        "    # i = i + 1\n",
        "    if not math.isnan(x):\n",
        "      _res = _res + x\n",
        "      \n",
        "      passageiros_gratis.append(x)\n",
        "  print(f'{colum:#^53}')\n",
        "  global cv_MAO\n",
        "  #cv_MAO = f'A coeficiente de variação é Manaus: {coeficient_of_variation(passageiros_gratis)}'\n",
        "  cv_MAO = coeficient_of_variation(passageiros_gratis)\n",
        "  print(stats.describe(_dataset_manaus[colum].dropna()))\n",
        "functionStatiscals('PASSAGEIROS GRÁTIS')"
      ],
      "execution_count": null,
      "outputs": [
        {
          "output_type": "stream",
          "text": [
            "#################PASSAGEIROS GRÁTIS##################\n",
            "DescribeResult(nobs=1259, minmax=(0.0, 454.0), mean=14.974583002382843, variance=2040.3681928903625, skewness=5.268970158930214, kurtosis=34.05276424825104)\n"
          ],
          "name": "stdout"
        }
      ]
    },
    {
      "cell_type": "code",
      "metadata": {
        "colab": {
          "base_uri": "https://localhost:8080/"
        },
        "id": "qpxDmz4MH7rM",
        "outputId": "ebb21fa6-819f-4406-8bdc-a0a7de27e7fe"
      },
      "source": [
        "def functionStatiscals(colum):\n",
        "  _res = 0\n",
        "  passageiros_gratis = []\n",
        "  for x in _dataset_RJ[colum]:\n",
        "    # i = i + 1\n",
        "    if not math.isnan(x):\n",
        "      _res = _res + x\n",
        "      \n",
        "      passageiros_gratis.append(x)\n",
        "  global cv_RJ\n",
        "  #cv_RJ = f'A coeficiente de variação RJ é: {coeficient_of_variation(passageiros_gratis)}'\n",
        "  cv_RJ = coeficient_of_variation(passageiros_gratis)\n",
        "  print(stats.describe(_dataset_RJ[colum].dropna()))\n",
        "functionStatiscals('PASSAGEIROS GRÁTIS')"
      ],
      "execution_count": null,
      "outputs": [
        {
          "output_type": "stream",
          "text": [
            "DescribeResult(nobs=2726, minmax=(0.0, 2249.0), mean=69.30851063829788, variance=38152.46882295531, skewness=6.777988151074404, kurtosis=56.771298939863584)\n"
          ],
          "name": "stdout"
        }
      ]
    },
    {
      "cell_type": "code",
      "metadata": {
        "colab": {
          "base_uri": "https://localhost:8080/"
        },
        "id": "IMHk163uH9qi",
        "outputId": "454daf19-6d82-4092-9758-58f5415cfa15"
      },
      "source": [
        "def functionStatiscals(colum):\n",
        "  _res = 0\n",
        "  passageiros_gratis = []\n",
        "  for x in _dataset_GUA_SP[colum]:\n",
        "    # i = i + 1\n",
        "    if not math.isnan(x):\n",
        "      _res = _res + x\n",
        "      \n",
        "      passageiros_gratis.append(x)\n",
        "#  cv_GUA_SP = print(f'A coeficiente de variação GUARULHOS é: {coeficient_of_variation(passageiros_gratis)}')\n",
        "  global cv_GUA_SP\n",
        "  #cv_GUA_SP = f'A coeficiente de variação GUARULHOS é: {coeficient_of_variation(passageiros_gratis)}'\n",
        "  cv_GUA_SP = coeficient_of_variation(passageiros_gratis)\n",
        "  print(stats.describe(_dataset_GUA_SP[colum].dropna()))\n",
        "functionStatiscals('PASSAGEIROS GRÁTIS')"
      ],
      "execution_count": null,
      "outputs": [
        {
          "output_type": "stream",
          "text": [
            "DescribeResult(nobs=3529, minmax=(0.0, 916.0), mean=68.3289883819779, variance=13753.81378812033, skewness=2.776687415433839, kurtosis=9.273450948950156)\n"
          ],
          "name": "stdout"
        }
      ]
    },
    {
      "cell_type": "code",
      "metadata": {
        "colab": {
          "base_uri": "https://localhost:8080/"
        },
        "id": "G7EoJRf9A4Mz",
        "outputId": "3f7dbfcf-7d85-4ee9-c2f7-a235280a847f"
      },
      "source": [
        "def functionStatiscals(colum):\n",
        "  _res = 0\n",
        "  passageiros_gratis = []\n",
        "  for x in _dataset_SALVADOR[colum]:\n",
        "    # i = i + 1\n",
        "    if not math.isnan(x):\n",
        "      _res = _res + x\n",
        "      \n",
        "      passageiros_gratis.append(x)\n",
        "  print(f'{colum:#^53}')\n",
        "  #cv_SAL = print(f'A coeficiente de variação é SALVDOR: {coeficient_of_variation(passageiros_gratis)}')\n",
        "  global cv_SAL\n",
        "  # cv_SAL = f'A coeficiente de variação é SALVDOR: {coeficient_of_variation(passageiros_gratis)}'\n",
        "  cv_SAL =  coeficient_of_variation(passageiros_gratis)\n",
        "  print(stats.describe(_dataset_SALVADOR[colum].dropna()))\n",
        "functionStatiscals('PASSAGEIROS GRÁTIS')"
      ],
      "execution_count": null,
      "outputs": [
        {
          "output_type": "stream",
          "text": [
            "#################PASSAGEIROS GRÁTIS##################\n",
            "DescribeResult(nobs=1159, minmax=(0.0, 794.0), mean=36.71786022433132, variance=8500.655216142795, skewness=3.8325383125291554, kurtosis=16.436223390463812)\n"
          ],
          "name": "stdout"
        }
      ]
    },
    {
      "cell_type": "code",
      "metadata": {
        "colab": {
          "base_uri": "https://localhost:8080/"
        },
        "id": "w0OvoFINBE2-",
        "outputId": "bc4fc3e3-2eda-4bae-ea1c-8224a3edd238"
      },
      "source": [
        "def functionStatiscals(colum):\n",
        "  _res = 0\n",
        "  passageiros_gratis = []\n",
        "  for x in _dataset_BELÉM[colum]:\n",
        "    # i = i + 1\n",
        "    if not math.isnan(x):\n",
        "      _res = _res + x\n",
        "      \n",
        "      passageiros_gratis.append(x)\n",
        "  print(f'{colum:#^53}')\n",
        "  global cv_BE\n",
        "  #cv_BE = f'A coeficiente de variação é BELÉM: {coeficient_of_variation(passageiros_gratis)}'\n",
        "  cv_BE = coeficient_of_variation(passageiros_gratis)\n",
        "  print(stats.describe(_dataset_BELÉM[colum].dropna()))\n",
        "functionStatiscals('PASSAGEIROS GRÁTIS')"
      ],
      "execution_count": null,
      "outputs": [
        {
          "output_type": "stream",
          "text": [
            "#################PASSAGEIROS GRÁTIS##################\n",
            "DescribeResult(nobs=779, minmax=(0.0, 387.0), mean=29.378690629011555, variance=2925.7677201342435, skewness=3.334767351507329, kurtosis=14.416670996448573)\n"
          ],
          "name": "stdout"
        }
      ]
    },
    {
      "cell_type": "markdown",
      "metadata": {
        "id": "zqL1PACEfeKz"
      },
      "source": [
        "# Teste de Homogeneidade\n",
        "\n",
        "\n",
        "Deste trecho em diante, realiza-se o teste de Homogeneidade a partir dos coeficientes de variações coletados dos estados."
      ]
    },
    {
      "cell_type": "markdown",
      "metadata": {
        "id": "SbZWZD4K11k1"
      },
      "source": [
        ""
      ]
    },
    {
      "cell_type": "markdown",
      "metadata": {
        "id": "zN04D8yj10ca"
      },
      "source": [
        ""
      ]
    },
    {
      "cell_type": "markdown",
      "metadata": {
        "id": "cSyl0IXDfc0q"
      },
      "source": [
        ""
      ]
    },
    {
      "cell_type": "code",
      "metadata": {
        "colab": {
          "base_uri": "https://localhost:8080/",
          "height": 302
        },
        "id": "dYQ_VqiyFMGy",
        "outputId": "b2641c54-e4c6-4644-b30e-137a24c4e196"
      },
      "source": [
        "'''so_teste \n",
        "print(cv_MAO) \n",
        "print(cv_SAL)\n",
        "print(cv_RJ)\n",
        "print(cv_GUA_SP) \n",
        "print(cv_BE)'''\n",
        "if cv_GUA_SP <= cv_SAL and cv_GUA_SP <= cv_RJ and cv_GUA_SP <= cv_BE and cv_GUA_SP <= cv_MAO:\n",
        "  \n",
        "  print(\" SÃO PAULO é homogeneo, pois apresenta o menor Coeficiente de variação e as variaveis se encontram mas distribuidas regularmente do que as outras\")\n",
        "\n",
        "\n",
        "if cv_SAL <= cv_GUA_SP and cv_SAL <= cv_RJ and cv_SAL <= cv_BE and cv_SAL<= cv_MAO:\n",
        "  print(\" SALVADOR é homogeneo, pois apresenta o menor Coeficiente de variação e as variaveis se encontram mas distribuidas regularmente do que as outras\")\n",
        "\n",
        "if cv_RJ <= cv_GUA_SP and cv_RJ <= cv_SAL and cv_RJ <= cv_BE and cv_RJ<= cv_MAO:\n",
        "  print(\"RIO DE JANEIRO é homogeneo, pois apresenta o menor Coeficiente de variação e as variaveis se encontram mas distribuidas regularmente do que as outras\")\n",
        "\n",
        "\n",
        "if cv_BE <= cv_GUA_SP and cv_BE <= cv_SAL and cv_BE <= cv_RJ and cv_BE<= cv_MAO:\n",
        "  print(\"BELEM é homogeneo, pois apresenta o menor Coeficiente de variação e as variaveis se encontram mas distribuidas regularmente do que as outras\")\n",
        "\n",
        "\n",
        "if cv_MAO <= cv_GUA_SP and cv_MAO <= cv_SAL and cv_MAO <= cv_RJ and cv_MAO<= cv_BE:\n",
        "  print(\"MANAUS é homogeneo, pois apresenta o menor Coeficiente de variação e as\")\n",
        "  print('\\n')\n",
        "  print(\"variaveis se encontram mas distribuidas regularmente do que as outras\")\n",
        "  print('\\n')\n",
        "\n",
        "grupos = ['MANAUS', 'SALVADOR', 'RJ', 'SP', 'BELEM']\n",
        "valores = [(cv_MAO) ,(cv_SAL),(cv_RJ),(cv_GUA_SP) ,(cv_BE)]\n",
        "plt.bar(grupos, valores)\n",
        "plt.show()"
      ],
      "execution_count": null,
      "outputs": [
        {
          "output_type": "stream",
          "text": [
            " SÃO PAULO é homogeneo, pois apresenta o menor Coeficiente de variação e as variaveis se encontram mas distribuidas regularmente do que as outras\n"
          ],
          "name": "stdout"
        },
        {
          "output_type": "display_data",
          "data": {
            "image/png": "[encoded data removed]",
            "text/plain": [
              "<Figure size 432x288 with 1 Axes>"
            ]
          },
          "metadata": {
            "tags": [],
            "needs_background": "light"
          }
        }
      ]
    }
  ]
}