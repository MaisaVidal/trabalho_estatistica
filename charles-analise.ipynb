{
 "cells": [
  {
   "cell_type": "code",
   "execution_count": 22,
   "metadata": {},
   "outputs": [],
   "source": [
    "import pandas as pd\n",
    "import numpy as np\n",
    "import statistics as st\n",
    "import seaborn as se\n",
    "import statsmodels.stats.proportion as smp\n",
    "import operator\n",
    "import matplotlib.pyplot as plt\n",
    "from scipy import stats\n",
    "from scipy.stats import t,norm, ttest_ind"
   ]
  },
  {
   "cell_type": "code",
   "execution_count": 23,
   "metadata": {},
   "outputs": [],
   "source": [
    "PATH_CSV='~/Downloads/DadosEstatsticos.csv'"
   ]
  },
  {
   "cell_type": "code",
   "execution_count": 24,
   "metadata": {},
   "outputs": [
    {
     "name": "stdout",
     "output_type": "stream",
     "text": [
      "<class 'pandas.core.frame.DataFrame'>\n",
      "RangeIndex: 886509 entries, 0 to 886508\n",
      "Data columns (total 38 columns):\n",
      " #   Column                             Non-Null Count   Dtype  \n",
      "---  ------                             --------------   -----  \n",
      " 0   EMPRESA (SIGLA)                    886509 non-null  object \n",
      " 1   EMPRESA (NOME)                     886509 non-null  object \n",
      " 2   EMPRESA (NACIONALIDADE)            886509 non-null  object \n",
      " 3   ANO                                886509 non-null  int64  \n",
      " 4   MÊS                                886509 non-null  int64  \n",
      " 5   AEROPORTO DE ORIGEM (SIGLA)        881295 non-null  object \n",
      " 6   AEROPORTO DE ORIGEM (NOME)         881295 non-null  object \n",
      " 7   AEROPORTO DE ORIGEM (UF)           761974 non-null  object \n",
      " 8   AEROPORTO DE ORIGEM (REGIÃO)       761987 non-null  object \n",
      " 9   AEROPORTO DE ORIGEM (PAÍS)         881295 non-null  object \n",
      " 10  AEROPORTO DE ORIGEM (CONTINENTE)   881295 non-null  object \n",
      " 11  AEROPORTO DE DESTINO (SIGLA)       886509 non-null  object \n",
      " 12  AEROPORTO DE DESTINO (NOME)        886509 non-null  object \n",
      " 13  AEROPORTO DE DESTINO (UF)          758769 non-null  object \n",
      " 14  AEROPORTO DE DESTINO (REGIÃO)      758777 non-null  object \n",
      " 15  AEROPORTO DE DESTINO (PAÍS)        886509 non-null  object \n",
      " 16  AEROPORTO DE DESTINO (CONTINENTE)  886509 non-null  object \n",
      " 17  NATUREZA                           886509 non-null  object \n",
      " 18  GRUPO DE VOO                       886507 non-null  object \n",
      " 19  PASSAGEIROS PAGOS                  841719 non-null  float64\n",
      " 20  PASSAGEIROS GRÁTIS                 841719 non-null  float64\n",
      " 21  CARGA PAGA (KG)                    841719 non-null  float64\n",
      " 22  CARGA GRÁTIS (KG)                  841719 non-null  float64\n",
      " 23  CORREIO (KG)                       841719 non-null  float64\n",
      " 24  ASK                                669311 non-null  float64\n",
      " 25  RPK                                669793 non-null  float64\n",
      " 26  ATK                                669311 non-null  float64\n",
      " 27  RTK                                669307 non-null  float64\n",
      " 28  COMBUSTÍVEL (LITROS)               575944 non-null  float64\n",
      " 29  DISTÂNCIA VOADA (KM)               669311 non-null  float64\n",
      " 30  DECOLAGENS                         669847 non-null  float64\n",
      " 31  CARGA PAGA KM                      669793 non-null  float64\n",
      " 32  CARGA GRATIS KM                    669307 non-null  float64\n",
      " 33  CORREIO KM                         669793 non-null  float64\n",
      " 34  ASSENTOS                           669846 non-null  float64\n",
      " 35  PAYLOAD                            669846 non-null  float64\n",
      " 36  HORAS VOADAS                       669329 non-null  float64\n",
      " 37  BAGAGEM (KG)                       713859 non-null  float64\n",
      "dtypes: float64(19), int64(2), object(17)\n",
      "memory usage: 257.0+ MB\n"
     ]
    }
   ],
   "source": [
    "anac = pd.read_csv(PATH_CSV,sep=';',decimal=',', encoding='latin1')\n",
    "anac.info()"
   ]
  },
  {
   "cell_type": "markdown",
   "metadata": {},
   "source": [
    "# Comparar da média de um campo numérico e categórico"
   ]
  },
  {
   "cell_type": "code",
   "execution_count": 25,
   "metadata": {},
   "outputs": [],
   "source": [
    "# Replace valor NAN\n",
    "anac['DECOLAGENS'] = anac['DECOLAGENS'].replace(np.nan, 0)"
   ]
  },
  {
   "cell_type": "code",
   "execution_count": 26,
   "metadata": {},
   "outputs": [
    {
     "data": {
      "text/plain": [
       "20.29471218002299"
      ]
     },
     "execution_count": 26,
     "metadata": {},
     "output_type": "execute_result"
    }
   ],
   "source": [
    "st.mean(anac['DECOLAGENS'])"
   ]
  },
  {
   "cell_type": "code",
   "execution_count": 27,
   "metadata": {},
   "outputs": [],
   "source": [
    "np.random.seed(9999)"
   ]
  },
  {
   "cell_type": "code",
   "execution_count": 37,
   "metadata": {},
   "outputs": [
    {
     "name": "stdout",
     "output_type": "stream",
     "text": [
      "[1 1 1 ... 1 1 1]\n",
      "[3 3 3 ... 3 3 3]\n"
     ]
    }
   ],
   "source": [
    "random = np.random.choice(a = [0,1], size = 886509, replace = True, p = [0.1, 0.9])\n",
    "random2 = np.random.choice(a = [2,3], size = 886509, replace = True, p = [0.3, 0.7])\n",
    "\n",
    "print(random)\n",
    "# print('---------------------------------------------------------------------------------')\n",
    "print(random2)"
   ]
  },
  {
   "cell_type": "code",
   "execution_count": 38,
   "metadata": {},
   "outputs": [
    {
     "name": "stdout",
     "output_type": "stream",
     "text": [
      "AMOSTRA 0 =  88622\n",
      "AMOSTRA 1 =  265641\n"
     ]
    }
   ],
   "source": [
    "print(\"AMOSTRA 0 = \", len(random[random == 0]))\n",
    "print(\"AMOSTRA 1 = \", len(random2[random2 == 2]))\n",
    "# print(\"AMOSTRA 1 = \", len(random1[random1 == 1]))\n",
    "# print('---------------------------------------------------------------------------------')\n",
    "# print(\"AMOSTRA 2 = \", len(random2[random2 == 2]))\n",
    "# print(\"AMOSTRA 3 = \", len(random2[random2 == 3]))"
   ]
  },
  {
   "cell_type": "code",
   "execution_count": 39,
   "metadata": {},
   "outputs": [
    {
     "name": "stdout",
     "output_type": "stream",
     "text": [
      "(88622, 38)\n",
      "---------------------------------------------------------------------------------\n",
      "(265641, 38)\n"
     ]
    }
   ],
   "source": [
    "selectA0 = anac.loc[random == 0]\n",
    "selectA1 = anac.loc[random2 == 2]\n",
    "\n",
    "print(selectA0.shape)\n",
    "print('---------------------------------------------------------------------------------')\n",
    "print(selectA1.shape)"
   ]
  },
  {
   "cell_type": "code",
   "execution_count": 40,
   "metadata": {},
   "outputs": [
    {
     "name": "stdout",
     "output_type": "stream",
     "text": [
      "Média para DECOLAGENS:  20.23\n",
      "Desvio-padrão para DECOLAGENS:  42.56\n",
      "---------------------------------------------------------------------------------\n",
      "Média para NACIONALIDADE:  20.27\n",
      "Desvio-padrão para NACIONALIDADE:  41.77\n",
      "---------------------------------------------------------------------------------\n",
      "P:  0.7833790992396442\n",
      "Conclusão: aceita-se Ho, ou seja, as médias são estatisticamente iguais ao nível de significância de 5%\n"
     ]
    }
   ],
   "source": [
    "alfa=0.05\n",
    "\n",
    "coluna = 'DECOLAGENS'\n",
    "media = np.mean(selectA0[coluna])\n",
    "dp = np.std(selectA0[coluna])\n",
    "print('Média para DECOLAGENS: ', round(media, 2))\n",
    "print('Desvio-padrão para DECOLAGENS: ', round(dp,2))\n",
    "\n",
    "print('---------------------------------------------------------------------------------')\n",
    "\n",
    "media = np.mean(selectA1[coluna])\n",
    "dp = np.std(selectA1[coluna])\n",
    "print('Média para NACIONALIDADE: ', round(media, 2))\n",
    "print('Desvio-padrão para NACIONALIDADE: ', round(dp,2))\n",
    "\n",
    "print('---------------------------------------------------------------------------------')\n",
    "\n",
    "t,p = ttest_ind(selectA0[coluna],selectA1[coluna])\n",
    "print('P: ', p)\n",
    "\n",
    "if p > alfa:\n",
    "   print('Conclusão: aceita-se Ho, ou seja, as médias são estatisticamente iguais ao nível de significância de 5%')\n",
    "else:\n",
    "   print('Conclusão: rejeita-se Ho, ou seja, as médias são estatisticamente diferentes ao nível de significância de 5%')\n"
   ]
  },
  {
   "cell_type": "code",
   "execution_count": 32,
   "metadata": {},
   "outputs": [],
   "source": [
    "# print(np.mean(selectA1['EMPRESA (NACIONALIDADE)']))"
   ]
  },
  {
   "cell_type": "code",
   "execution_count": null,
   "metadata": {},
   "outputs": [],
   "source": []
  }
 ],
 "metadata": {
  "kernelspec": {
   "display_name": "Python 3",
   "language": "python",
   "name": "python3"
  },
  "language_info": {
   "codemirror_mode": {
    "name": "ipython",
    "version": 3
   },
   "file_extension": ".py",
   "mimetype": "text/x-python",
   "name": "python",
   "nbconvert_exporter": "python",
   "pygments_lexer": "ipython3",
   "version": "3.8.3"
  }
 },
 "nbformat": 4,
 "nbformat_minor": 4
}
