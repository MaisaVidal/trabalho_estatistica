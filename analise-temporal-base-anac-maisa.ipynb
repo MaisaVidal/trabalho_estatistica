{
 "cells": [
  {
   "cell_type": "code",
   "execution_count": 2,
   "metadata": {},
   "outputs": [],
   "source": [
    "import pandas as pd"
   ]
  },
  {
   "cell_type": "code",
   "execution_count": 3,
   "metadata": {},
   "outputs": [],
   "source": [
    "dataframe = pd.read_csv(\"DadosEstatisticos-com-colunas-de-interesse.csv\",sep=\";\",encoding='latin-1');"
   ]
  },
  {
   "cell_type": "code",
   "execution_count": 18,
   "metadata": {},
   "outputs": [],
   "source": [
    "dataframe.rename(columns={'BAGAGEM (KG)': 'BAGAGEM'}, inplace = True)"
   ]
  },
  {
   "cell_type": "code",
   "execution_count": 10,
   "metadata": {},
   "outputs": [],
   "source": [
    "dataframe.rename(columns={'EMPRESA (NACIONALIDADE)': 'EMPRESA_NACIONALIDADE'}, inplace = True)"
   ]
  },
  {
   "cell_type": "code",
   "execution_count": 27,
   "metadata": {},
   "outputs": [
    {
     "data": {
      "text/html": [
       "<div>\n",
       "<style scoped>\n",
       "    .dataframe tbody tr th:only-of-type {\n",
       "        vertical-align: middle;\n",
       "    }\n",
       "\n",
       "    .dataframe tbody tr th {\n",
       "        vertical-align: top;\n",
       "    }\n",
       "\n",
       "    .dataframe thead th {\n",
       "        text-align: right;\n",
       "    }\n",
       "</style>\n",
       "<table border=\"1\" class=\"dataframe\">\n",
       "  <thead>\n",
       "    <tr style=\"text-align: right;\">\n",
       "      <th></th>\n",
       "      <th>ANO</th>\n",
       "      <th>MÊS</th>\n",
       "      <th>PASSAGEIROS PAGOS</th>\n",
       "      <th>PASSAGEIROS GRÁTIS</th>\n",
       "      <th>CARGA PAGA (KG)</th>\n",
       "      <th>CARGA GRÁTIS (KG)</th>\n",
       "      <th>DISTÂNCIA VOADA (KM)</th>\n",
       "      <th>DECOLAGENS</th>\n",
       "      <th>ASSENTOS</th>\n",
       "      <th>BAGAGEM</th>\n",
       "    </tr>\n",
       "  </thead>\n",
       "  <tbody>\n",
       "    <tr>\n",
       "      <th>count</th>\n",
       "      <td>886509.000000</td>\n",
       "      <td>886509.000000</td>\n",
       "      <td>841719.000000</td>\n",
       "      <td>841719.000000</td>\n",
       "      <td>8.417190e+05</td>\n",
       "      <td>841719.000000</td>\n",
       "      <td>6.693110e+05</td>\n",
       "      <td>669847.000000</td>\n",
       "      <td>669846.000000</td>\n",
       "      <td>713859.000000</td>\n",
       "    </tr>\n",
       "    <tr>\n",
       "      <th>mean</th>\n",
       "      <td>2009.606717</td>\n",
       "      <td>6.460133</td>\n",
       "      <td>1929.220643</td>\n",
       "      <td>41.811299</td>\n",
       "      <td>2.376162e+04</td>\n",
       "      <td>247.191185</td>\n",
       "      <td>3.483849e+04</td>\n",
       "      <td>26.859036</td>\n",
       "      <td>3693.092381</td>\n",
       "      <td>23340.739691</td>\n",
       "    </tr>\n",
       "    <tr>\n",
       "      <th>std</th>\n",
       "      <td>5.900236</td>\n",
       "      <td>3.483967</td>\n",
       "      <td>4484.415889</td>\n",
       "      <td>154.505241</td>\n",
       "      <td>9.281107e+04</td>\n",
       "      <td>1982.754998</td>\n",
       "      <td>6.645658e+04</td>\n",
       "      <td>46.488975</td>\n",
       "      <td>7279.524038</td>\n",
       "      <td>52087.003366</td>\n",
       "    </tr>\n",
       "    <tr>\n",
       "      <th>min</th>\n",
       "      <td>2000.000000</td>\n",
       "      <td>1.000000</td>\n",
       "      <td>0.000000</td>\n",
       "      <td>0.000000</td>\n",
       "      <td>0.000000e+00</td>\n",
       "      <td>0.000000</td>\n",
       "      <td>0.000000e+00</td>\n",
       "      <td>0.000000</td>\n",
       "      <td>0.000000</td>\n",
       "      <td>0.000000</td>\n",
       "    </tr>\n",
       "    <tr>\n",
       "      <th>25%</th>\n",
       "      <td>2004.000000</td>\n",
       "      <td>3.000000</td>\n",
       "      <td>1.000000</td>\n",
       "      <td>0.000000</td>\n",
       "      <td>0.000000e+00</td>\n",
       "      <td>0.000000</td>\n",
       "      <td>1.644000e+03</td>\n",
       "      <td>2.000000</td>\n",
       "      <td>70.000000</td>\n",
       "      <td>85.000000</td>\n",
       "    </tr>\n",
       "    <tr>\n",
       "      <th>50%</th>\n",
       "      <td>2010.000000</td>\n",
       "      <td>6.000000</td>\n",
       "      <td>206.000000</td>\n",
       "      <td>0.000000</td>\n",
       "      <td>3.200000e+01</td>\n",
       "      <td>0.000000</td>\n",
       "      <td>8.584000e+03</td>\n",
       "      <td>11.000000</td>\n",
       "      <td>694.000000</td>\n",
       "      <td>2766.000000</td>\n",
       "    </tr>\n",
       "    <tr>\n",
       "      <th>75%</th>\n",
       "      <td>2015.000000</td>\n",
       "      <td>10.000000</td>\n",
       "      <td>1773.000000</td>\n",
       "      <td>20.000000</td>\n",
       "      <td>7.597000e+03</td>\n",
       "      <td>0.000000</td>\n",
       "      <td>3.549250e+04</td>\n",
       "      <td>31.000000</td>\n",
       "      <td>4563.000000</td>\n",
       "      <td>20658.000000</td>\n",
       "    </tr>\n",
       "    <tr>\n",
       "      <th>max</th>\n",
       "      <td>2020.000000</td>\n",
       "      <td>12.000000</td>\n",
       "      <td>92357.000000</td>\n",
       "      <td>7452.000000</td>\n",
       "      <td>4.018286e+06</td>\n",
       "      <td>189562.000000</td>\n",
       "      <td>1.015740e+06</td>\n",
       "      <td>918.000000</td>\n",
       "      <td>154845.000000</td>\n",
       "      <td>919417.000000</td>\n",
       "    </tr>\n",
       "  </tbody>\n",
       "</table>\n",
       "</div>"
      ],
      "text/plain": [
       "                 ANO            MÊS  PASSAGEIROS PAGOS  PASSAGEIROS GRÁTIS  \\\n",
       "count  886509.000000  886509.000000      841719.000000       841719.000000   \n",
       "mean     2009.606717       6.460133        1929.220643           41.811299   \n",
       "std         5.900236       3.483967        4484.415889          154.505241   \n",
       "min      2000.000000       1.000000           0.000000            0.000000   \n",
       "25%      2004.000000       3.000000           1.000000            0.000000   \n",
       "50%      2010.000000       6.000000         206.000000            0.000000   \n",
       "75%      2015.000000      10.000000        1773.000000           20.000000   \n",
       "max      2020.000000      12.000000       92357.000000         7452.000000   \n",
       "\n",
       "       CARGA PAGA (KG)  CARGA GRÁTIS (KG)  DISTÂNCIA VOADA (KM)  \\\n",
       "count     8.417190e+05      841719.000000          6.693110e+05   \n",
       "mean      2.376162e+04         247.191185          3.483849e+04   \n",
       "std       9.281107e+04        1982.754998          6.645658e+04   \n",
       "min       0.000000e+00           0.000000          0.000000e+00   \n",
       "25%       0.000000e+00           0.000000          1.644000e+03   \n",
       "50%       3.200000e+01           0.000000          8.584000e+03   \n",
       "75%       7.597000e+03           0.000000          3.549250e+04   \n",
       "max       4.018286e+06      189562.000000          1.015740e+06   \n",
       "\n",
       "          DECOLAGENS       ASSENTOS        BAGAGEM  \n",
       "count  669847.000000  669846.000000  713859.000000  \n",
       "mean       26.859036    3693.092381   23340.739691  \n",
       "std        46.488975    7279.524038   52087.003366  \n",
       "min         0.000000       0.000000       0.000000  \n",
       "25%         2.000000      70.000000      85.000000  \n",
       "50%        11.000000     694.000000    2766.000000  \n",
       "75%        31.000000    4563.000000   20658.000000  \n",
       "max       918.000000  154845.000000  919417.000000  "
      ]
     },
     "execution_count": 27,
     "metadata": {},
     "output_type": "execute_result"
    }
   ],
   "source": [
    "dataframe.describe()"
   ]
  },
  {
   "cell_type": "code",
   "execution_count": 29,
   "metadata": {},
   "outputs": [
    {
     "data": {
      "text/plain": [
       "Index(['EMPRESA (SIGLA)', 'EMPRESA (NOME)', 'EMPRESA_NACIONALIDADE', 'ANO',\n",
       "       'MÊS', 'AEROPORTO DE ORIGEM (SIGLA)', 'AEROPORTO DE ORIGEM (NOME)',\n",
       "       'AEROPORTO DE ORIGEM (UF)', 'AEROPORTO DE ORIGEM (REGIÃO)',\n",
       "       'AEROPORTO DE ORIGEM (PAÍS)', 'AEROPORTO DE ORIGEM (CONTINENTE)',\n",
       "       'AEROPORTO DE DESTINO (SIGLA)', 'AEROPORTO DE DESTINO (NOME)',\n",
       "       'AEROPORTO DE DESTINO (UF)', 'AEROPORTO DE DESTINO (REGIÃO)',\n",
       "       'AEROPORTO DE DESTINO (PAÍS)', 'AEROPORTO DE DESTINO (CONTINENTE)',\n",
       "       'NATUREZA', 'PASSAGEIROS PAGOS', 'PASSAGEIROS GRÁTIS',\n",
       "       'CARGA PAGA (KG)', 'CARGA GRÁTIS (KG)', 'DISTÂNCIA VOADA (KM)',\n",
       "       'DECOLAGENS', 'ASSENTOS', 'HORAS VOADAS', 'BAGAGEM'],\n",
       "      dtype='object')"
      ]
     },
     "execution_count": 29,
     "metadata": {},
     "output_type": "execute_result"
    }
   ],
   "source": [
    "dataframe.columns"
   ]
  },
  {
   "cell_type": "code",
   "execution_count": 13,
   "metadata": {},
   "outputs": [
    {
     "name": "stdout",
     "output_type": "stream",
     "text": [
      "Tamanho do dataset: 886509\n"
     ]
    }
   ],
   "source": [
    "print(\"Tamanho do dataset:\",len(dataframe))"
   ]
  },
  {
   "cell_type": "code",
   "execution_count": 39,
   "metadata": {},
   "outputs": [
    {
     "data": {
      "text/plain": [
       "NATUREZA\n",
       "DOMÉSTICA        15654456.0\n",
       "INTERNACIONAL     2336989.0\n",
       "Name: DECOLAGENS, dtype: float64"
      ]
     },
     "execution_count": 39,
     "metadata": {},
     "output_type": "execute_result"
    }
   ],
   "source": [
    "dataframe.groupby(['NATUREZA'])['DECOLAGENS'].sum()"
   ]
  },
  {
   "cell_type": "code",
   "execution_count": 42,
   "metadata": {},
   "outputs": [
    {
     "data": {
      "text/plain": [
       "<AxesSubplot:title={'center':'Distribuição da Natureza de Decolagem dos últimos 20 anos'}, xlabel='Natureza', ylabel='Qtde de Decolagens'>"
      ]
     },
     "execution_count": 42,
     "metadata": {},
     "output_type": "execute_result"
    },
    {
     "data": {
      "image/png": "[encoded data removed]",
      "text/plain": [
       "<Figure size 432x288 with 1 Axes>"
      ]
     },
     "metadata": {
      "needs_background": "light"
     },
     "output_type": "display_data"
    }
   ],
   "source": [
    "dataframe.groupby(['NATUREZA'])['DECOLAGENS'].sum().plot(kind='bar', title='Distribuição da Natureza de Decolagem dos últimos 20 anos', xlabel='Natureza',ylabel='Qtde de Decolagens')"
   ]
  },
  {
   "cell_type": "code",
   "execution_count": 25,
   "metadata": {
    "scrolled": true
   },
   "outputs": [
    {
     "data": {
      "text/plain": [
       "ANO\n",
       "2000    703553.0\n",
       "2001    741064.0\n",
       "2002    685853.0\n",
       "2003    543580.0\n",
       "2004    528501.0\n",
       "2005    562529.0\n",
       "2006    590194.0\n",
       "2007    641087.0\n",
       "2008    662764.0\n",
       "2009    738445.0\n",
       "2010    851663.0\n",
       "2011    964598.0\n",
       "2012    998323.0\n",
       "2013    954221.0\n",
       "2014    949062.0\n",
       "2015    942342.0\n",
       "2016    834666.0\n",
       "2017    811665.0\n",
       "2018    822592.0\n",
       "2019    809925.0\n",
       "2020    317829.0\n",
       "Name: DECOLAGENS, dtype: float64"
      ]
     },
     "execution_count": 25,
     "metadata": {},
     "output_type": "execute_result"
    }
   ],
   "source": [
    "dataframe.loc[dataframe.NATUREZA == 'DOMÉSTICA'].groupby(['ANO'])['DECOLAGENS'].sum()"
   ]
  },
  {
   "cell_type": "code",
   "execution_count": 40,
   "metadata": {},
   "outputs": [
    {
     "data": {
      "text/plain": [
       "<AxesSubplot:title={'center':'Distribuição de Decolagens - Voos Domésticos'}, xlabel='Ano', ylabel='Qtde de Decolagens'>"
      ]
     },
     "execution_count": 40,
     "metadata": {},
     "output_type": "execute_result"
    },
    {
     "data": {
      "image/png": "[encoded data removed]",
      "text/plain": [
       "<Figure size 432x288 with 1 Axes>"
      ]
     },
     "metadata": {
      "needs_background": "light"
     },
     "output_type": "display_data"
    }
   ],
   "source": [
    "dataframe.loc[dataframe.NATUREZA == 'DOMÉSTICA'].groupby(['ANO'])['DECOLAGENS'].sum().plot(kind='bar', title='Distribuição de Decolagens - Voos Domésticos', xlabel='Ano',ylabel='Qtde de Decolagens')"
   ]
  },
  {
   "cell_type": "code",
   "execution_count": 31,
   "metadata": {
    "scrolled": true
   },
   "outputs": [
    {
     "data": {
      "text/plain": [
       "<AxesSubplot:title={'center':'Distribuição de Decolagens - Voos Internacionais'}, xlabel='Ano', ylabel='Qtde de Decolagens'>"
      ]
     },
     "execution_count": 31,
     "metadata": {},
     "output_type": "execute_result"
    },
    {
     "data": {
      "image/png": "[encoded data removed]",
      "text/plain": [
       "<Figure size 432x288 with 1 Axes>"
      ]
     },
     "metadata": {
      "needs_background": "light"
     },
     "output_type": "display_data"
    }
   ],
   "source": [
    "dataframe.loc[dataframe.NATUREZA == 'INTERNACIONAL'].groupby(['ANO'])['DECOLAGENS'].sum().plot(kind='bar', title='Distribuição de Decolagens - Voos Internacionais', xlabel='Ano',ylabel='Qtde de Decolagens')"
   ]
  },
  {
   "cell_type": "markdown",
   "metadata": {},
   "source": [
    "**Cenário:\n",
    "A partir de junho de 2017, as companhias aéreas brasileiras foram autorizadas a cobrar pela bagagem despachada e não são mais obrigadas a oferecer a franquia de uma bagagem de 23 kg para voos nacionais e de dois volumes com até 32 kg para voos internacionais.**\n",
    "\n",
    "**Será que a partir de 2017, o peso de bagagem despachada por ano diminui?**"
   ]
  },
  {
   "cell_type": "code",
   "execution_count": 23,
   "metadata": {
    "scrolled": true
   },
   "outputs": [
    {
     "data": {
      "text/plain": [
       "<AxesSubplot:title={'center':'Peso de Bagagens - Voos Domésticos'}, xlabel='Ano', ylabel='KG de bagagem'>"
      ]
     },
     "execution_count": 23,
     "metadata": {},
     "output_type": "execute_result"
    },
    {
     "data": {
      "image/png": "[encoded data removed]",
      "text/plain": [
       "<Figure size 432x288 with 1 Axes>"
      ]
     },
     "metadata": {
      "needs_background": "light"
     },
     "output_type": "display_data"
    }
   ],
   "source": [
    "dataframe.loc[((dataframe.NATUREZA == 'DOMÉSTICA') & (dataframe.EMPRESA_NACIONALIDADE == 'BRASILEIRA'))].groupby(['ANO'])['BAGAGEM'].sum().plot(kind='bar', title='Peso de Bagagens - Voos Domésticos', xlabel='Ano',ylabel='KG de bagagem')"
   ]
  },
  {
   "cell_type": "code",
   "execution_count": 24,
   "metadata": {},
   "outputs": [
    {
     "data": {
      "text/plain": [
       "<AxesSubplot:title={'center':'Peso de Bagagens - Voos Internacionais'}, xlabel='Ano', ylabel='KG de bagagem'>"
      ]
     },
     "execution_count": 24,
     "metadata": {},
     "output_type": "execute_result"
    },
    {
     "data": {
      "image/png": "[encoded data removed]",
      "text/plain": [
       "<Figure size 432x288 with 1 Axes>"
      ]
     },
     "metadata": {
      "needs_background": "light"
     },
     "output_type": "display_data"
    }
   ],
   "source": [
    "dataframe.loc[((dataframe.NATUREZA == 'INTERNACIONAL') & (dataframe.EMPRESA_NACIONALIDADE == 'BRASILEIRA'))].groupby(['ANO'])['BAGAGEM'].sum().plot(kind='bar', title='Peso de Bagagens - Voos Internacionais', xlabel='Ano',ylabel='KG de bagagem')"
   ]
  }
 ],
 "metadata": {
  "kernelspec": {
   "display_name": "Python 3",
   "language": "python",
   "name": "python3"
  },
  "language_info": {
   "codemirror_mode": {
    "name": "ipython",
    "version": 3
   },
   "file_extension": ".py",
   "mimetype": "text/x-python",
   "name": "python",
   "nbconvert_exporter": "python",
   "pygments_lexer": "ipython3",
   "version": "3.8.5"
  }
 },
 "nbformat": 4,
 "nbformat_minor": 4
}
