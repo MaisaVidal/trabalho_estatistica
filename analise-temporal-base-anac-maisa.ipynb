{
 "cells": [
  {
   "cell_type": "code",
   "execution_count": 2,
   "metadata": {},
   "outputs": [],
   "source": [
    "import pandas as pd"
   ]
  },
  {
   "cell_type": "code",
   "execution_count": 14,
   "metadata": {},
   "outputs": [],
   "source": [
    "dataframe = pd.read_csv(\"DadosEstatisticos-com-colunas-de-interesse.csv\",sep=\";\",encoding='latin-1');"
   ]
  },
  {
   "cell_type": "code",
   "execution_count": 15,
   "metadata": {},
   "outputs": [
    {
     "data": {
      "text/html": [
       "<div>\n",
       "<style scoped>\n",
       "    .dataframe tbody tr th:only-of-type {\n",
       "        vertical-align: middle;\n",
       "    }\n",
       "\n",
       "    .dataframe tbody tr th {\n",
       "        vertical-align: top;\n",
       "    }\n",
       "\n",
       "    .dataframe thead th {\n",
       "        text-align: right;\n",
       "    }\n",
       "</style>\n",
       "<table border=\"1\" class=\"dataframe\">\n",
       "  <thead>\n",
       "    <tr style=\"text-align: right;\">\n",
       "      <th></th>\n",
       "      <th>EMPRESA (SIGLA)</th>\n",
       "      <th>EMPRESA (NOME)</th>\n",
       "      <th>EMPRESA (NACIONALIDADE)</th>\n",
       "      <th>ANO</th>\n",
       "      <th>MÊS</th>\n",
       "      <th>AEROPORTO DE ORIGEM (SIGLA)</th>\n",
       "      <th>AEROPORTO DE ORIGEM (NOME)</th>\n",
       "      <th>AEROPORTO DE ORIGEM (UF)</th>\n",
       "      <th>AEROPORTO DE ORIGEM (REGIÃO)</th>\n",
       "      <th>AEROPORTO DE ORIGEM (PAÍS)</th>\n",
       "      <th>...</th>\n",
       "      <th>NATUREZA</th>\n",
       "      <th>PASSAGEIROS PAGOS</th>\n",
       "      <th>PASSAGEIROS GRÁTIS</th>\n",
       "      <th>CARGA PAGA (KG)</th>\n",
       "      <th>CARGA GRÁTIS (KG)</th>\n",
       "      <th>DISTÂNCIA VOADA (KM)</th>\n",
       "      <th>DECOLAGENS</th>\n",
       "      <th>ASSENTOS</th>\n",
       "      <th>HORAS VOADAS</th>\n",
       "      <th>BAGAGEM (KG)</th>\n",
       "    </tr>\n",
       "  </thead>\n",
       "  <tbody>\n",
       "    <tr>\n",
       "      <th>0</th>\n",
       "      <td>AAL</td>\n",
       "      <td>AMERICAN AIRLINES, INC.</td>\n",
       "      <td>ESTRANGEIRA</td>\n",
       "      <td>2000</td>\n",
       "      <td>1</td>\n",
       "      <td>KDFW</td>\n",
       "      <td>DALLAS &amp; FORT WORTH, TEXAS</td>\n",
       "      <td>NaN</td>\n",
       "      <td>NaN</td>\n",
       "      <td>ESTADOS UNIDOS DA AMÉRICA</td>\n",
       "      <td>...</td>\n",
       "      <td>INTERNACIONAL</td>\n",
       "      <td>3932.0</td>\n",
       "      <td>142.0</td>\n",
       "      <td>97876.0</td>\n",
       "      <td>0.0</td>\n",
       "      <td>247320.0</td>\n",
       "      <td>30.0</td>\n",
       "      <td>6330.0</td>\n",
       "      <td>409,08</td>\n",
       "      <td>NaN</td>\n",
       "    </tr>\n",
       "    <tr>\n",
       "      <th>1</th>\n",
       "      <td>AAL</td>\n",
       "      <td>AMERICAN AIRLINES, INC.</td>\n",
       "      <td>ESTRANGEIRA</td>\n",
       "      <td>2000</td>\n",
       "      <td>1</td>\n",
       "      <td>KJFK</td>\n",
       "      <td>NEW YORK, NEW YORK</td>\n",
       "      <td>NaN</td>\n",
       "      <td>NaN</td>\n",
       "      <td>ESTADOS UNIDOS DA AMÉRICA</td>\n",
       "      <td>...</td>\n",
       "      <td>INTERNACIONAL</td>\n",
       "      <td>2338.0</td>\n",
       "      <td>131.0</td>\n",
       "      <td>48066.0</td>\n",
       "      <td>0.0</td>\n",
       "      <td>224141.0</td>\n",
       "      <td>29.0</td>\n",
       "      <td>6119.0</td>\n",
       "      <td>418,1</td>\n",
       "      <td>NaN</td>\n",
       "    </tr>\n",
       "    <tr>\n",
       "      <th>2</th>\n",
       "      <td>AAL</td>\n",
       "      <td>AMERICAN AIRLINES, INC.</td>\n",
       "      <td>ESTRANGEIRA</td>\n",
       "      <td>2000</td>\n",
       "      <td>1</td>\n",
       "      <td>KJFK</td>\n",
       "      <td>NEW YORK, NEW YORK</td>\n",
       "      <td>NaN</td>\n",
       "      <td>NaN</td>\n",
       "      <td>ESTADOS UNIDOS DA AMÉRICA</td>\n",
       "      <td>...</td>\n",
       "      <td>INTERNACIONAL</td>\n",
       "      <td>2892.0</td>\n",
       "      <td>127.0</td>\n",
       "      <td>194997.0</td>\n",
       "      <td>0.0</td>\n",
       "      <td>222256.0</td>\n",
       "      <td>29.0</td>\n",
       "      <td>6119.0</td>\n",
       "      <td>411,5</td>\n",
       "      <td>NaN</td>\n",
       "    </tr>\n",
       "    <tr>\n",
       "      <th>3</th>\n",
       "      <td>AAL</td>\n",
       "      <td>AMERICAN AIRLINES, INC.</td>\n",
       "      <td>ESTRANGEIRA</td>\n",
       "      <td>2000</td>\n",
       "      <td>1</td>\n",
       "      <td>KMIA</td>\n",
       "      <td>MIAMI, FLORIDA</td>\n",
       "      <td>NaN</td>\n",
       "      <td>NaN</td>\n",
       "      <td>ESTADOS UNIDOS DA AMÉRICA</td>\n",
       "      <td>...</td>\n",
       "      <td>INTERNACIONAL</td>\n",
       "      <td>997.0</td>\n",
       "      <td>20.0</td>\n",
       "      <td>91022.0</td>\n",
       "      <td>493.0</td>\n",
       "      <td>NaN</td>\n",
       "      <td>NaN</td>\n",
       "      <td>NaN</td>\n",
       "      <td>NaN</td>\n",
       "      <td>NaN</td>\n",
       "    </tr>\n",
       "    <tr>\n",
       "      <th>4</th>\n",
       "      <td>AAL</td>\n",
       "      <td>AMERICAN AIRLINES, INC.</td>\n",
       "      <td>ESTRANGEIRA</td>\n",
       "      <td>2000</td>\n",
       "      <td>1</td>\n",
       "      <td>KMIA</td>\n",
       "      <td>MIAMI, FLORIDA</td>\n",
       "      <td>NaN</td>\n",
       "      <td>NaN</td>\n",
       "      <td>ESTADOS UNIDOS DA AMÉRICA</td>\n",
       "      <td>...</td>\n",
       "      <td>INTERNACIONAL</td>\n",
       "      <td>3589.0</td>\n",
       "      <td>133.0</td>\n",
       "      <td>29865.0</td>\n",
       "      <td>6429.0</td>\n",
       "      <td>208227.0</td>\n",
       "      <td>31.0</td>\n",
       "      <td>6541.0</td>\n",
       "      <td>491,8</td>\n",
       "      <td>NaN</td>\n",
       "    </tr>\n",
       "  </tbody>\n",
       "</table>\n",
       "<p>5 rows × 27 columns</p>\n",
       "</div>"
      ],
      "text/plain": [
       "  EMPRESA (SIGLA)           EMPRESA (NOME) EMPRESA (NACIONALIDADE)   ANO  MÊS  \\\n",
       "0             AAL  AMERICAN AIRLINES, INC.             ESTRANGEIRA  2000    1   \n",
       "1             AAL  AMERICAN AIRLINES, INC.             ESTRANGEIRA  2000    1   \n",
       "2             AAL  AMERICAN AIRLINES, INC.             ESTRANGEIRA  2000    1   \n",
       "3             AAL  AMERICAN AIRLINES, INC.             ESTRANGEIRA  2000    1   \n",
       "4             AAL  AMERICAN AIRLINES, INC.             ESTRANGEIRA  2000    1   \n",
       "\n",
       "  AEROPORTO DE ORIGEM (SIGLA)  AEROPORTO DE ORIGEM (NOME)  \\\n",
       "0                        KDFW  DALLAS & FORT WORTH, TEXAS   \n",
       "1                        KJFK          NEW YORK, NEW YORK   \n",
       "2                        KJFK          NEW YORK, NEW YORK   \n",
       "3                        KMIA              MIAMI, FLORIDA   \n",
       "4                        KMIA              MIAMI, FLORIDA   \n",
       "\n",
       "  AEROPORTO DE ORIGEM (UF) AEROPORTO DE ORIGEM (REGIÃO)  \\\n",
       "0                      NaN                          NaN   \n",
       "1                      NaN                          NaN   \n",
       "2                      NaN                          NaN   \n",
       "3                      NaN                          NaN   \n",
       "4                      NaN                          NaN   \n",
       "\n",
       "  AEROPORTO DE ORIGEM (PAÍS)  ...       NATUREZA PASSAGEIROS PAGOS  \\\n",
       "0  ESTADOS UNIDOS DA AMÉRICA  ...  INTERNACIONAL            3932.0   \n",
       "1  ESTADOS UNIDOS DA AMÉRICA  ...  INTERNACIONAL            2338.0   \n",
       "2  ESTADOS UNIDOS DA AMÉRICA  ...  INTERNACIONAL            2892.0   \n",
       "3  ESTADOS UNIDOS DA AMÉRICA  ...  INTERNACIONAL             997.0   \n",
       "4  ESTADOS UNIDOS DA AMÉRICA  ...  INTERNACIONAL            3589.0   \n",
       "\n",
       "  PASSAGEIROS GRÁTIS CARGA PAGA (KG) CARGA GRÁTIS (KG) DISTÂNCIA VOADA (KM)  \\\n",
       "0              142.0         97876.0               0.0             247320.0   \n",
       "1              131.0         48066.0               0.0             224141.0   \n",
       "2              127.0        194997.0               0.0             222256.0   \n",
       "3               20.0         91022.0             493.0                  NaN   \n",
       "4              133.0         29865.0            6429.0             208227.0   \n",
       "\n",
       "  DECOLAGENS ASSENTOS  HORAS VOADAS  BAGAGEM (KG)  \n",
       "0       30.0   6330.0        409,08           NaN  \n",
       "1       29.0   6119.0         418,1           NaN  \n",
       "2       29.0   6119.0         411,5           NaN  \n",
       "3        NaN      NaN           NaN           NaN  \n",
       "4       31.0   6541.0         491,8           NaN  \n",
       "\n",
       "[5 rows x 27 columns]"
      ]
     },
     "execution_count": 15,
     "metadata": {},
     "output_type": "execute_result"
    }
   ],
   "source": [
    "dataframe.head()"
   ]
  },
  {
   "cell_type": "code",
   "execution_count": 13,
   "metadata": {},
   "outputs": [
    {
     "name": "stdout",
     "output_type": "stream",
     "text": [
      "Tamanho do dataset: 886509\n"
     ]
    }
   ],
   "source": [
    "print(\"Tamanho do dataset:\",len(dataframe))"
   ]
  },
  {
   "cell_type": "code",
   "execution_count": 39,
   "metadata": {},
   "outputs": [
    {
     "data": {
      "text/plain": [
       "NATUREZA\n",
       "DOMÉSTICA        15654456.0\n",
       "INTERNACIONAL     2336989.0\n",
       "Name: DECOLAGENS, dtype: float64"
      ]
     },
     "execution_count": 39,
     "metadata": {},
     "output_type": "execute_result"
    }
   ],
   "source": [
    "dataframe.groupby(['NATUREZA'])['DECOLAGENS'].sum()"
   ]
  },
  {
   "cell_type": "code",
   "execution_count": 42,
   "metadata": {},
   "outputs": [
    {
     "data": {
      "text/plain": [
       "<AxesSubplot:title={'center':'Distribuição da Natureza de Decolagem dos últimos 20 anos'}, xlabel='Natureza', ylabel='Qtde de Decolagens'>"
      ]
     },
     "execution_count": 42,
     "metadata": {},
     "output_type": "execute_result"
    },
    {
     "data": {
      "image/png": "[encoded data removed]",
      "text/plain": [
       "<Figure size 432x288 with 1 Axes>"
      ]
     },
     "metadata": {
      "needs_background": "light"
     },
     "output_type": "display_data"
    }
   ],
   "source": [
    "dataframe.groupby(['NATUREZA'])['DECOLAGENS'].sum().plot(kind='bar', title='Distribuição da Natureza de Decolagem dos últimos 20 anos', xlabel='Natureza',ylabel='Qtde de Decolagens')"
   ]
  },
  {
   "cell_type": "code",
   "execution_count": 25,
   "metadata": {
    "scrolled": true
   },
   "outputs": [
    {
     "data": {
      "text/plain": [
       "ANO\n",
       "2000    703553.0\n",
       "2001    741064.0\n",
       "2002    685853.0\n",
       "2003    543580.0\n",
       "2004    528501.0\n",
       "2005    562529.0\n",
       "2006    590194.0\n",
       "2007    641087.0\n",
       "2008    662764.0\n",
       "2009    738445.0\n",
       "2010    851663.0\n",
       "2011    964598.0\n",
       "2012    998323.0\n",
       "2013    954221.0\n",
       "2014    949062.0\n",
       "2015    942342.0\n",
       "2016    834666.0\n",
       "2017    811665.0\n",
       "2018    822592.0\n",
       "2019    809925.0\n",
       "2020    317829.0\n",
       "Name: DECOLAGENS, dtype: float64"
      ]
     },
     "execution_count": 25,
     "metadata": {},
     "output_type": "execute_result"
    }
   ],
   "source": [
    "dataframe.loc[dataframe.NATUREZA == 'DOMÉSTICA'].groupby(['ANO'])['DECOLAGENS'].sum()"
   ]
  },
  {
   "cell_type": "code",
   "execution_count": 40,
   "metadata": {},
   "outputs": [
    {
     "data": {
      "text/plain": [
       "<AxesSubplot:title={'center':'Distribuição de Decolagens - Voos Domésticos'}, xlabel='Ano', ylabel='Qtde de Decolagens'>"
      ]
     },
     "execution_count": 40,
     "metadata": {},
     "output_type": "execute_result"
    },
    {
     "data": {
      "image/png": "[encoded data removed]",
      "text/plain": [
       "<Figure size 432x288 with 1 Axes>"
      ]
     },
     "metadata": {
      "needs_background": "light"
     },
     "output_type": "display_data"
    }
   ],
   "source": [
    "dataframe.loc[dataframe.NATUREZA == 'DOMÉSTICA'].groupby(['ANO'])['DECOLAGENS'].sum().plot(kind='bar', title='Distribuição de Decolagens - Voos Domésticos', xlabel='Ano',ylabel='Qtde de Decolagens')"
   ]
  },
  {
   "cell_type": "code",
   "execution_count": 31,
   "metadata": {},
   "outputs": [
    {
     "data": {
      "text/plain": [
       "<AxesSubplot:title={'center':'Distribuição de Decolagens - Voos Internacionais'}, xlabel='Ano', ylabel='Qtde de Decolagens'>"
      ]
     },
     "execution_count": 31,
     "metadata": {},
     "output_type": "execute_result"
    },
    {
     "data": {
      "image/png": "[encoded data removed]",
      "text/plain": [
       "<Figure size 432x288 with 1 Axes>"
      ]
     },
     "metadata": {
      "needs_background": "light"
     },
     "output_type": "display_data"
    }
   ],
   "source": [
    "dataframe.loc[dataframe.NATUREZA == 'INTERNACIONAL'].groupby(['ANO'])['DECOLAGENS'].sum().plot(kind='bar', title='Distribuição de Decolagens - Voos Internacionais', xlabel='Ano',ylabel='Qtde de Decolagens')"
   ]
  },
  {
   "cell_type": "code",
   "execution_count": null,
   "metadata": {},
   "outputs": [],
   "source": []
  }
 ],
 "metadata": {
  "kernelspec": {
   "display_name": "Python 3",
   "language": "python",
   "name": "python3"
  },
  "language_info": {
   "codemirror_mode": {
    "name": "ipython",
    "version": 3
   },
   "file_extension": ".py",
   "mimetype": "text/x-python",
   "name": "python",
   "nbconvert_exporter": "python",
   "pygments_lexer": "ipython3",
   "version": "3.8.5"
  }
 },
 "nbformat": 4,
 "nbformat_minor": 4
}
