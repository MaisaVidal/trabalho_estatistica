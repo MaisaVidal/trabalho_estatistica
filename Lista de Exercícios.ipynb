{
 "cells": [
  {
   "cell_type": "markdown",
   "metadata": {},
   "source": [
    "**Q1.** Com o objetivo de verificar falhas em um cabo coexial, os técnicos de qualidade de uma empresa inspecionam os cabos produzidos. Os cabos inspecionados têm 60 metros de comprimento e são verificados com equipamentos de precisão até o aparecimento da primeira falha, cuja a distância a uma das extremidades (fixada à priori) é anotada para fins de análise posterior. Escolhe-se um cabo ao acaso para ser inspecionado. Qual a probabilidade de que a falha esteja, no máximo, a 10 metros das extremidades?\n",
    "______________________________________________________________________________________________________________"
   ]
  },
  {
   "cell_type": "markdown",
   "metadata": {},
   "source": [
    "* 1/6\n",
    "* 1/5\n",
    "* 1/3\n",
    "* 5/6"
   ]
  },
  {
   "cell_type": "code",
   "execution_count": null,
   "metadata": {},
   "outputs": [],
   "source": []
  },
  {
   "cell_type": "markdown",
   "metadata": {},
   "source": [
    "**Q2.** O intervalo de tempo (em segundos), entre emissões consecutivas de calor mais intenso de um CPU utilizado para Data Science é uma variável aleatória com distribuição exponencial de parâmetro lambda = 0,2. Qual a probabilidade de haver uma emissão em um intervalo inferior a 2 segundos?\n",
    "______________________________________________________________________________________________________________\n",
    "* 0,33\n",
    "* 0,45\n",
    "* 0,66\n",
    "* 0,95"
   ]
  },
  {
   "cell_type": "code",
   "execution_count": null,
   "metadata": {},
   "outputs": [],
   "source": []
  },
  {
   "cell_type": "markdown",
   "metadata": {},
   "source": [
    "**Q3.** Um banco faz operações via internet e, após um estudo sobre o serviço prestado, concluiu que o tempo de conexão segue uma distribuição exponencial com lambda = 1/4. Qual a probabilidade de ficar mais de 2 minutos de conexão?\n",
    "______________________________________________________________________________________________________________\n",
    "* 0,2212\n",
    "* 0,7788\n",
    "* 0,8898\n",
    "* 0,9975"
   ]
  },
  {
   "cell_type": "code",
   "execution_count": null,
   "metadata": {},
   "outputs": [],
   "source": []
  },
  {
   "cell_type": "markdown",
   "metadata": {},
   "source": [
    "**Q4.** Suponha que o tempo de resposta na execução de um algoritmo é uma variável aleatória com distribuição normal de média 23 segundos e variância de 16 segundos ao quadrado. Qual a probabilidade de o tempo de resposta ficar entre 20 e 30 segundos?\n",
    "______________________________________________________________________________________________________________\n",
    "* 0,2667\n",
    "* 0,5454\n",
    "* 0,6455\n",
    "* 0,7333"
   ]
  },
  {
   "cell_type": "code",
   "execution_count": null,
   "metadata": {},
   "outputs": [],
   "source": []
  },
  {
   "cell_type": "markdown",
   "metadata": {},
   "source": [
    "**Q5.** Um teste de aptidão realizado para contratar analistas de banco de dados requer uma série de conhecimentos em computação e estatística. Suponha que o tempo necessário para completar o teste seja distribuído de acordo com uma Normal de média 90 minutos e desvio padrão de 20 minutos. Para passar no teste classificatório, o candidato deve completa-lo em menos de 80 minutos. Se 65 candidatos fazem o teste, quantos são esperados se classificar?\n",
    "______________________________________________________________________________________________________________\n",
    "* 10\n",
    "* 15\n",
    "* 20\n",
    "* 25"
   ]
  },
  {
   "cell_type": "code",
   "execution_count": null,
   "metadata": {},
   "outputs": [],
   "source": []
  },
  {
   "cell_type": "markdown",
   "metadata": {},
   "source": [
    "**Q6.** Existe vários algoritmos computacionais que permitem gerar números aleatórios (ou, mais apropriadamente, pseudo-aleatórios) no intervalo [0,1], com distribuição uniforme. Considere a geração de 100 números (X1, X2, ...,X100) desta forma. Qual é o valor da média e da variância de Xi?\n",
    "______________________________________________________________________________________________________________\n",
    "* 0 e 1\n",
    "* 1/2 e 1\n",
    "* 1/2 e 1/12\n",
    "* 1/2 e 1/24"
   ]
  },
  {
   "cell_type": "code",
   "execution_count": null,
   "metadata": {},
   "outputs": [],
   "source": []
  },
  {
   "cell_type": "markdown",
   "metadata": {},
   "source": [
    "**Q7.** Um cientista de dados precisa determinar o tempo médio gasto para realizar a análise de dados de três setores de uma grande empresa. Qual deve ser o tamanho da amostra para que a média amostral esteja a menos de 15 segundos da média populacional? Por experiência prévia, pode-se supor o desvio padrão em torno de 40 segundos. Considere também, que a estimação será realizada com nível de confiança de 95%.\n",
    "______________________________________________________________________________________________________________\n",
    "* 20\n",
    "* 28\n",
    "* 35\n",
    "* 40"
   ]
  },
  {
   "cell_type": "code",
   "execution_count": null,
   "metadata": {},
   "outputs": [],
   "source": []
  },
  {
   "cell_type": "markdown",
   "metadata": {},
   "source": [
    "**Q8.** Em uma industria de cerveja, a quantidade de cerveja inserida em latas tem-se comportado como uma variável aleatória com média 350 ml e desvio-padrão de 3 ml. Após alguns problemas na linha de produção, um analista de dados suspeita que houve alteração na média. Uma amostra de 20 latas acusou média de 346 ml. Qual o Intervalo de confiança para o novo valor da quantidade média de cerveja inserida nas latas, com nível de confiança de 95%, supondo que não tenha ocorrido alteração no desvio-padrão do processo.\n",
    "______________________________________________________________________________________________________________\n",
    "* 346 ± 1,31 ml\n",
    "* 346 ± 1,64 ml\n",
    "* 346 ± 1,96 ml\n",
    "* 346 ± 2,28 ml"
   ]
  },
  {
   "cell_type": "code",
   "execution_count": null,
   "metadata": {},
   "outputs": [],
   "source": []
  },
  {
   "cell_type": "markdown",
   "metadata": {},
   "source": [
    "**Q9.** Com base no resultado encontrado na amostra da questão 8 (média = 346), podemos concluir que:\n",
    "______________________________________________________________________________________________________________\n",
    "* O analista de dados estava equivocado, pois a nova média é estatisticamente igual a 350 ao nível de 5% de significância\n",
    "* O analista estava certo, pois a nova média é estatisticamente diferente de 350 ao nível de 5% de significância\n",
    "* A amostra utilizada pelo analista de dados deveria ser igual a 100\n",
    "* O erro amostral é igual a 1,96 ml"
   ]
  },
  {
   "cell_type": "code",
   "execution_count": null,
   "metadata": {},
   "outputs": [],
   "source": []
  },
  {
   "cell_type": "markdown",
   "metadata": {},
   "source": [
    "**Q10.** Uma empresa fabricante de pastilhas para freios de motocicleta efetua um teste para controle de qualidade de seus produtos. Selecionou-se uma amostra de 600 pastilhas, dos quais 18 apresentaram níveis de desgaste acima do tolerado.\n",
    "______________________________________________________________________________________________________________\n",
    "* 2,5% ± 1,64%\n",
    "* 3,0% ± 1,28%\n",
    "* 3,0% ± 1,64%\n",
    "* 3,0% ± 1,36%"
   ]
  },
  {
   "cell_type": "code",
   "execution_count": null,
   "metadata": {},
   "outputs": [],
   "source": []
  },
  {
   "cell_type": "code",
   "execution_count": null,
   "metadata": {},
   "outputs": [],
   "source": []
  },
  {
   "cell_type": "code",
   "execution_count": null,
   "metadata": {},
   "outputs": [],
   "source": []
  }
 ],
 "metadata": {
  "celltoolbar": "Raw Cell Format",
  "kernelspec": {
   "display_name": "Python 3.9.0 64-bit ('my_env': conda)",
   "language": "python",
   "name": "python39064bitmyenvconda9a4329fd7a214e8c818ef05ba280a6d0"
  },
  "language_info": {
   "codemirror_mode": {
    "name": "ipython",
    "version": 3
   },
   "file_extension": ".py",
   "mimetype": "text/x-python",
   "name": "python",
   "nbconvert_exporter": "python",
   "pygments_lexer": "ipython3",
   "version": "3.9.0"
  }
 },
 "nbformat": 4,
 "nbformat_minor": 2
}
