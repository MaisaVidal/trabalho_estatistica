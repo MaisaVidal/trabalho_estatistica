{
 "cells": [
  {
   "cell_type": "code",
   "execution_count": 15,
   "metadata": {},
   "outputs": [],
   "source": [
    "import pandas as pd\n",
    "import numpy as np\n",
    "import statistics as st\n",
    "import seaborn as se\n",
    "import statsmodels.stats.proportion as smp\n",
    "import operator\n",
    "import matplotlib.pyplot as plt\n",
    "import math\n",
    "from scipy import stats\n",
    "from scipy.stats import t,norm, ttest_ind, ttest_1samp, ttest_ind, chi2_contingency"
   ]
  },
  {
   "cell_type": "code",
   "execution_count": 16,
   "metadata": {},
   "outputs": [],
   "source": [
    "PATH_CSV='~/Downloads/DadosEstatsticos.csv'"
   ]
  },
  {
   "cell_type": "code",
   "execution_count": 17,
   "metadata": {},
   "outputs": [
    {
     "name": "stdout",
     "output_type": "stream",
     "text": [
      "<class 'pandas.core.frame.DataFrame'>\n",
      "RangeIndex: 886509 entries, 0 to 886508\n",
      "Data columns (total 38 columns):\n",
      " #   Column                             Non-Null Count   Dtype  \n",
      "---  ------                             --------------   -----  \n",
      " 0   EMPRESA (SIGLA)                    886509 non-null  object \n",
      " 1   EMPRESA (NOME)                     886509 non-null  object \n",
      " 2   EMPRESA (NACIONALIDADE)            886509 non-null  object \n",
      " 3   ANO                                886509 non-null  int64  \n",
      " 4   MÊS                                886509 non-null  int64  \n",
      " 5   AEROPORTO DE ORIGEM (SIGLA)        881295 non-null  object \n",
      " 6   AEROPORTO DE ORIGEM (NOME)         881295 non-null  object \n",
      " 7   AEROPORTO DE ORIGEM (UF)           761974 non-null  object \n",
      " 8   AEROPORTO DE ORIGEM (REGIÃO)       761987 non-null  object \n",
      " 9   AEROPORTO DE ORIGEM (PAÍS)         881295 non-null  object \n",
      " 10  AEROPORTO DE ORIGEM (CONTINENTE)   881295 non-null  object \n",
      " 11  AEROPORTO DE DESTINO (SIGLA)       886509 non-null  object \n",
      " 12  AEROPORTO DE DESTINO (NOME)        886509 non-null  object \n",
      " 13  AEROPORTO DE DESTINO (UF)          758769 non-null  object \n",
      " 14  AEROPORTO DE DESTINO (REGIÃO)      758777 non-null  object \n",
      " 15  AEROPORTO DE DESTINO (PAÍS)        886509 non-null  object \n",
      " 16  AEROPORTO DE DESTINO (CONTINENTE)  886509 non-null  object \n",
      " 17  NATUREZA                           886509 non-null  object \n",
      " 18  GRUPO DE VOO                       886507 non-null  object \n",
      " 19  PASSAGEIROS PAGOS                  841719 non-null  float64\n",
      " 20  PASSAGEIROS GRÁTIS                 841719 non-null  float64\n",
      " 21  CARGA PAGA (KG)                    841719 non-null  float64\n",
      " 22  CARGA GRÁTIS (KG)                  841719 non-null  float64\n",
      " 23  CORREIO (KG)                       841719 non-null  float64\n",
      " 24  ASK                                669311 non-null  float64\n",
      " 25  RPK                                669793 non-null  float64\n",
      " 26  ATK                                669311 non-null  float64\n",
      " 27  RTK                                669307 non-null  float64\n",
      " 28  COMBUSTÍVEL (LITROS)               575944 non-null  float64\n",
      " 29  DISTÂNCIA VOADA (KM)               669311 non-null  float64\n",
      " 30  DECOLAGENS                         669847 non-null  float64\n",
      " 31  CARGA PAGA KM                      669793 non-null  float64\n",
      " 32  CARGA GRATIS KM                    669307 non-null  float64\n",
      " 33  CORREIO KM                         669793 non-null  float64\n",
      " 34  ASSENTOS                           669846 non-null  float64\n",
      " 35  PAYLOAD                            669846 non-null  float64\n",
      " 36  HORAS VOADAS                       669329 non-null  float64\n",
      " 37  BAGAGEM (KG)                       713859 non-null  float64\n",
      "dtypes: float64(19), int64(2), object(17)\n",
      "memory usage: 257.0+ MB\n"
     ]
    }
   ],
   "source": [
    "anac = pd.read_csv(PATH_CSV,sep=';',decimal=',', encoding='latin1')\n",
    "anac.info()"
   ]
  },
  {
   "cell_type": "markdown",
   "metadata": {},
   "source": [
    "# Comparação média de um campo numérico e categórico"
   ]
  },
  {
   "cell_type": "code",
   "execution_count": 18,
   "metadata": {},
   "outputs": [],
   "source": [
    "# Replace valor NAN\n",
    "anac['DECOLAGENS'] = anac['DECOLAGENS'].replace(np.nan, 0)"
   ]
  },
  {
   "cell_type": "code",
   "execution_count": 19,
   "metadata": {},
   "outputs": [
    {
     "data": {
      "text/plain": [
       "20.29471218002299"
      ]
     },
     "execution_count": 19,
     "metadata": {},
     "output_type": "execute_result"
    }
   ],
   "source": [
    "st.mean(anac['DECOLAGENS'])"
   ]
  },
  {
   "cell_type": "code",
   "execution_count": 20,
   "metadata": {},
   "outputs": [],
   "source": [
    "np.random.seed(9999)"
   ]
  },
  {
   "cell_type": "code",
   "execution_count": 21,
   "metadata": {},
   "outputs": [],
   "source": [
    "aa = anac.groupby('EMPRESA (NACIONALIDADE)')"
   ]
  },
  {
   "cell_type": "code",
   "execution_count": 22,
   "metadata": {},
   "outputs": [],
   "source": [
    "##############\n",
    "def tamanhoAmostra(e,N):\n",
    "    n = (N / (1 + (N*(e**2))))\n",
    "    return (n)"
   ]
  },
  {
   "cell_type": "code",
   "execution_count": 23,
   "metadata": {},
   "outputs": [
    {
     "name": "stdout",
     "output_type": "stream",
     "text": [
      "População:  886509\n",
      "---------------------------------------------------------------------------------\n",
      "Tamanho da amostra:  400\n",
      "---------------------------------------------------------------------------------\n",
      "[1 0 0 1 0 0 1 1 1 1 1 1 0 1 1 1 1 1 0 1 1 0 1 1 1 1 1 1 1 1 1 1 1 1 1 1 1\n",
      " 0 1 0 0 0 1 0 1 1 1 0 0 1 1 1 1 1 1 1 1 0 1 1 0 0 1 0 1 1 1 1 0 1 0 0 1 0\n",
      " 1 1 0 0 0 1 0 1 1 1 1 1 0 1 0 1 1 0 1 1 1 1 1 1 1 1 0 0 1 0 0 1 1 0 1 0 1\n",
      " 1 1 1 0 1 1 1 1 1 1 0 0 0 1 1 1 0 1 0 0 1 1 1 1 1 1 1 1 0 1 1 1 1 1 1 1 1\n",
      " 1 0 1 0 1 1 0 1 1 1 1 0 0 1 0 1 1 1 1 1 0 1 1 1 0 1 0 1 0 0 0 0 1 1 0 1 1\n",
      " 1 0 0 1 1 1 1 1 0 1 1 1 0 1 1 0 1 1 1 0 1 1 1 1 1 1 0 0 0 1 0 1 1 1 1 1 1\n",
      " 1 1 1 0 1 0 1 1 1 0 1 1 1 1 0 1 1 0 1 1 1 1 0 0 1 1 1 1 0 1 0 1 0 0 1 0 1\n",
      " 1 1 1 1 0 1 1 1 1 1 0 1 1 1 0 0 1 0 1 0 1 1 0 1 1 0 1 0 0 0 1 0 1 1 1 0 1\n",
      " 1 0 1 1 1 0 1 0 1 0 1 0 1 1 0 1 1 0 1 1 1 1 0 1 1 1 1 1 0 1 1 0 1 1 1 1 1\n",
      " 1 1 1 1 1 0 0 1 1 0 1 1 1 1 1 1 1 1 1 0 0 0 1 1 0 0 1 0 1 0 1 1 0 1 1 0 1\n",
      " 1 1 1 0 1 1 0 1 1 0 1 1 1 1 1 1 1 1 1 1 0 1 1 1 1 0 1 1 1 1]\n"
     ]
    }
   ],
   "source": [
    "e = 0.05\n",
    "n = len(anac)\n",
    "size = math.ceil(tamanhoAmostra(e,n))\n",
    "amostra = np.random.choice(a = [0,1], size = size, replace = True, p = [0.3, 0.7])\n",
    "\n",
    "print(\"População: \", n)\n",
    "print('---------------------------------------------------------------------------------')\n",
    "print(\"Tamanho da amostra: \", size)\n",
    "print('---------------------------------------------------------------------------------')\n",
    "print(amostra)"
   ]
  },
  {
   "cell_type": "code",
   "execution_count": 24,
   "metadata": {},
   "outputs": [
    {
     "data": {
      "text/html": [
       "<div>\n",
       "<style scoped>\n",
       "    .dataframe tbody tr th:only-of-type {\n",
       "        vertical-align: middle;\n",
       "    }\n",
       "\n",
       "    .dataframe tbody tr th {\n",
       "        vertical-align: top;\n",
       "    }\n",
       "\n",
       "    .dataframe thead th {\n",
       "        text-align: right;\n",
       "    }\n",
       "</style>\n",
       "<table border=\"1\" class=\"dataframe\">\n",
       "  <thead>\n",
       "    <tr style=\"text-align: right;\">\n",
       "      <th>EMPRESA (NACIONALIDADE)</th>\n",
       "      <th>BRASILEIRA</th>\n",
       "      <th>ESTRANGEIRA</th>\n",
       "    </tr>\n",
       "    <tr>\n",
       "      <th>DECOLAGENS</th>\n",
       "      <th></th>\n",
       "      <th></th>\n",
       "    </tr>\n",
       "  </thead>\n",
       "  <tbody>\n",
       "    <tr>\n",
       "      <th>0.0</th>\n",
       "      <td>177404</td>\n",
       "      <td>40241</td>\n",
       "    </tr>\n",
       "    <tr>\n",
       "      <th>1.0</th>\n",
       "      <td>137382</td>\n",
       "      <td>22265</td>\n",
       "    </tr>\n",
       "    <tr>\n",
       "      <th>2.0</th>\n",
       "      <td>40488</td>\n",
       "      <td>6801</td>\n",
       "    </tr>\n",
       "    <tr>\n",
       "      <th>3.0</th>\n",
       "      <td>22364</td>\n",
       "      <td>4544</td>\n",
       "    </tr>\n",
       "    <tr>\n",
       "      <th>4.0</th>\n",
       "      <td>26464</td>\n",
       "      <td>5970</td>\n",
       "    </tr>\n",
       "    <tr>\n",
       "      <th>...</th>\n",
       "      <td>...</td>\n",
       "      <td>...</td>\n",
       "    </tr>\n",
       "    <tr>\n",
       "      <th>842.0</th>\n",
       "      <td>2</td>\n",
       "      <td>0</td>\n",
       "    </tr>\n",
       "    <tr>\n",
       "      <th>843.0</th>\n",
       "      <td>1</td>\n",
       "      <td>0</td>\n",
       "    </tr>\n",
       "    <tr>\n",
       "      <th>845.0</th>\n",
       "      <td>1</td>\n",
       "      <td>0</td>\n",
       "    </tr>\n",
       "    <tr>\n",
       "      <th>911.0</th>\n",
       "      <td>1</td>\n",
       "      <td>0</td>\n",
       "    </tr>\n",
       "    <tr>\n",
       "      <th>918.0</th>\n",
       "      <td>1</td>\n",
       "      <td>0</td>\n",
       "    </tr>\n",
       "  </tbody>\n",
       "</table>\n",
       "<p>799 rows × 2 columns</p>\n",
       "</div>"
      ],
      "text/plain": [
       "EMPRESA (NACIONALIDADE)  BRASILEIRA  ESTRANGEIRA\n",
       "DECOLAGENS                                      \n",
       "0.0                          177404        40241\n",
       "1.0                          137382        22265\n",
       "2.0                           40488         6801\n",
       "3.0                           22364         4544\n",
       "4.0                           26464         5970\n",
       "...                             ...          ...\n",
       "842.0                             2            0\n",
       "843.0                             1            0\n",
       "845.0                             1            0\n",
       "911.0                             1            0\n",
       "918.0                             1            0\n",
       "\n",
       "[799 rows x 2 columns]"
      ]
     },
     "execution_count": 24,
     "metadata": {},
     "output_type": "execute_result"
    }
   ],
   "source": [
    "##########\n",
    "tab_contigencia = pd.crosstab (anac['DECOLAGENS'],anac['EMPRESA (NACIONALIDADE)'])\n",
    "tab_contigencia"
   ]
  },
  {
   "cell_type": "code",
   "execution_count": 25,
   "metadata": {},
   "outputs": [
    {
     "name": "stdout",
     "output_type": "stream",
     "text": [
      "Valores esperados\n",
      "[[1.83555731e+05 3.40892687e+04]\n",
      " [1.34641833e+05 2.50051666e+04]\n",
      " [3.98822255e+04 7.40677447e+03]\n",
      " ...\n",
      " [8.43372149e-01 1.56627851e-01]\n",
      " [8.43372149e-01 1.56627851e-01]\n",
      " [8.43372149e-01 1.56627851e-01]]\n",
      "qui=27325.947, p=0.000\n",
      "Conclusão: as variáveis são dependentes\n"
     ]
    }
   ],
   "source": [
    "##################\n",
    "qui, p, gl, esperado = chi2_contingency(tab_contigencia,correction=False)\n",
    "print(\"Valores esperados\")\n",
    "print(esperado)\n",
    "print('qui=%.3f, p=%.3f' % (qui, p))\n",
    "if p > 0.05:\n",
    "    print('Conclusão: as variáveis são independentes')\n",
    "else:\n",
    "    print('Conclusão: as variáveis são dependentes')"
   ]
  },
  {
   "cell_type": "code",
   "execution_count": 26,
   "metadata": {},
   "outputs": [
    {
     "name": "stdout",
     "output_type": "stream",
     "text": [
      "Brasileira: (747657, 38)\n",
      "Estrangeira: (138852, 38)\n"
     ]
    }
   ],
   "source": [
    "##############\n",
    "bd_brasileira = anac.loc[anac['EMPRESA (NACIONALIDADE)'] == \"BRASILEIRA\"]\n",
    "bd_estrangeira = anac.loc[anac['EMPRESA (NACIONALIDADE)'] == \"ESTRANGEIRA\"]\n",
    "print(\"Brasileira:\", bd_brasileira.shape)\n",
    "print(\"Estrangeira:\", bd_estrangeira.shape)"
   ]
  },
  {
   "cell_type": "code",
   "execution_count": 29,
   "metadata": {},
   "outputs": [
    {
     "name": "stdout",
     "output_type": "stream",
     "text": [
      "H0: vCampoNum = vCampoCat\n",
      "H1: vCampoNum ≠ vCampoCat\n",
      "---------------------------------------------------------------------------------\n",
      "Média para DECOLAGENS:  22.07\n",
      "Desvio-padrão para DECOLAGENS:  44.97\n",
      "---------------------------------------------------------------------------------\n",
      "Média para NACIONALIDADE:  10.73\n",
      "Desvio-padrão para NACIONALIDADE:  16.71\n",
      "---------------------------------------------------------------------------------\n",
      "t= 92.785, p= 0.000000\n",
      "P:  0.0\n",
      "Conclusão: rejeita-se H0, ou seja, as médias são estatisticamente diferentes ao nível de significância de 5%\n"
     ]
    }
   ],
   "source": [
    "alfa=0.05\n",
    "\n",
    "print('H0: vCampoNum = vCampoCat')\n",
    "print('H1: vCampoNum ≠ vCampoCat')\n",
    "print('---------------------------------------------------------------------------------')\n",
    "\n",
    "coluna = 'DECOLAGENS'\n",
    "media = np.mean(bd_brasileira[coluna])\n",
    "dp = np.std(bd_brasileira[coluna])\n",
    "print('Média para DECOLAGENS: ', round(media, 2))\n",
    "print('Desvio-padrão para DECOLAGENS: ', round(dp,2))\n",
    "\n",
    "print('---------------------------------------------------------------------------------')\n",
    "\n",
    "media = np.mean(bd_estrangeira[coluna])\n",
    "dp = np.std(bd_estrangeira[coluna])\n",
    "print('Média para NACIONALIDADE: ', round(media, 2))\n",
    "print('Desvio-padrão para NACIONALIDADE: ', round(dp,2))\n",
    "\n",
    "print('---------------------------------------------------------------------------------')\n",
    "\n",
    "t,p = ttest_ind(bd_brasileira[coluna],bd_estrangeira[coluna])\n",
    "print('t= %0.3f, p= %0.6f' % (t, p))\n",
    "print('P: ', p)\n",
    "\n",
    "if p > alfa:\n",
    "   print('Conclusão: aceita-se H0, ou seja, as médias são estatisticamente iguais ao nível de significância de 5%')\n",
    "else:\n",
    "   print('Conclusão: rejeita-se H0, ou seja, as médias são estatisticamente diferentes ao nível de significância de 5%')\n"
   ]
  },
  {
   "cell_type": "code",
   "execution_count": 28,
   "metadata": {},
   "outputs": [],
   "source": [
    "# print(np.mean(selectA1['EMPRESA (NACIONALIDADE)']))"
   ]
  },
  {
   "cell_type": "code",
   "execution_count": null,
   "metadata": {},
   "outputs": [],
   "source": []
  }
 ],
 "metadata": {
  "kernelspec": {
   "display_name": "Python 3",
   "language": "python",
   "name": "python3"
  },
  "language_info": {
   "codemirror_mode": {
    "name": "ipython",
    "version": 3
   },
   "file_extension": ".py",
   "mimetype": "text/x-python",
   "name": "python",
   "nbconvert_exporter": "python",
   "pygments_lexer": "ipython3",
   "version": "3.8.5"
  }
 },
 "nbformat": 4,
 "nbformat_minor": 4
}
